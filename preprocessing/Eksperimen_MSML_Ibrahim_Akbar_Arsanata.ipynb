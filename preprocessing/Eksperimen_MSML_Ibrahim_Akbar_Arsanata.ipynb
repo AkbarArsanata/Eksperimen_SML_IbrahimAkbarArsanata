{
  "nbformat": 4,
  "nbformat_minor": 0,
  "metadata": {
    "colab": {
      "provenance": [],
      "gpuType": "T4"
    },
    "kernelspec": {
      "name": "python3",
      "display_name": "Python 3"
    },
    "language_info": {
      "name": "python"
    },
    "accelerator": "GPU"
  },
  "cells": [
    {
      "cell_type": "markdown",
      "source": [
        "# **1. Perkenalan Dataset**\n"
      ],
      "metadata": {
        "id": "kZLRMFl0JyyQ"
      }
    },
    {
      "cell_type": "markdown",
      "source": [
        "Tahap pertama, Anda harus mencari dan menggunakan dataset dengan ketentuan sebagai berikut:\n",
        "\n",
        "1. **Sumber Dataset**:  \n",
        "   Dataset dapat diperoleh dari berbagai sumber, seperti public repositories (*Kaggle*, *UCI ML Repository*, *Open Data*) atau data primer yang Anda kumpulkan sendiri.\n"
      ],
      "metadata": {
        "id": "hssSDn-5n3HR"
      }
    },
    {
      "cell_type": "markdown",
      "source": [
        "# **2. Import Library**"
      ],
      "metadata": {
        "id": "fKADPWcFKlj3"
      }
    },
    {
      "cell_type": "markdown",
      "source": [
        "Pada tahap ini, Anda perlu mengimpor beberapa pustaka (library) Python yang dibutuhkan untuk analisis data dan pembangunan model machine learning atau deep learning."
      ],
      "metadata": {
        "id": "LgA3ERnVn84N"
      }
    },
    {
      "cell_type": "code",
      "source": [
        "import pandas as pd\n",
        "import numpy as np\n",
        "import matplotlib.pyplot as plt\n",
        "import seaborn as sns\n",
        "from scipy.stats.mstats import winsorize\n",
        "from sklearn.model_selection import train_test_split\n",
        "from imblearn.over_sampling import SMOTE\n",
        "import os"
      ],
      "metadata": {
        "id": "BlmvjLY9M4Yj"
      },
      "execution_count": 23,
      "outputs": []
    },
    {
      "cell_type": "markdown",
      "source": [
        "# **3. Memuat Dataset**"
      ],
      "metadata": {
        "id": "f3YIEnAFKrKL"
      }
    },
    {
      "cell_type": "markdown",
      "source": [
        "Pada tahap ini, Anda perlu memuat dataset ke dalam notebook. Jika dataset dalam format CSV, Anda bisa menggunakan pustaka pandas untuk membacanya. Pastikan untuk mengecek beberapa baris awal dataset untuk memahami strukturnya dan memastikan data telah dimuat dengan benar.\n",
        "\n",
        "Jika dataset berada di Google Drive, pastikan Anda menghubungkan Google Drive ke Colab terlebih dahulu. Setelah dataset berhasil dimuat, langkah berikutnya adalah memeriksa kesesuaian data dan siap untuk dianalisis lebih lanjut.\n",
        "\n",
        "Jika dataset berupa unstructured data, silakan sesuaikan dengan format seperti kelas Machine Learning Pengembangan atau Machine Learning Terapan"
      ],
      "metadata": {
        "id": "Ey3ItwTen_7E"
      }
    },
    {
      "cell_type": "code",
      "source": [
        "# Link download mentah\n",
        "url = 'https://drive.google.com/uc?export=download&id=124jGhnab8pWzXtvf286NWPcl5Zjz5ILP'\n",
        "\n",
        "# Membaca CSV langsung\n",
        "df = pd.read_csv(url)\n",
        "\n",
        "# Tampilkan beberapa baris pertama untuk memeriksa\n",
        "df.head()"
      ],
      "metadata": {
        "id": "GHCGNTyrM5fS",
        "outputId": "2a58d316-ee54-4f6a-b0a5-6b4d1e49301b",
        "colab": {
          "base_uri": "https://localhost:8080/",
          "height": 226
        }
      },
      "execution_count": 24,
      "outputs": [
        {
          "output_type": "execute_result",
          "data": {
            "text/plain": [
              "   RowNumber  CustomerId   Surname  CreditScore Geography  Gender  Age  \\\n",
              "0          1    15634602  Hargrave          619    France  Female   42   \n",
              "1          2    15647311      Hill          608     Spain  Female   41   \n",
              "2          3    15619304      Onio          502    France  Female   42   \n",
              "3          4    15701354      Boni          699    France  Female   39   \n",
              "4          5    15737888  Mitchell          850     Spain  Female   43   \n",
              "\n",
              "   Tenure    Balance  NumOfProducts  HasCrCard  IsActiveMember  \\\n",
              "0       2       0.00              1          1               1   \n",
              "1       1   83807.86              1          0               1   \n",
              "2       8  159660.80              3          1               0   \n",
              "3       1       0.00              2          0               0   \n",
              "4       2  125510.82              1          1               1   \n",
              "\n",
              "   EstimatedSalary  Exited  \n",
              "0        101348.88       1  \n",
              "1        112542.58       0  \n",
              "2        113931.57       1  \n",
              "3         93826.63       0  \n",
              "4         79084.10       0  "
            ],
            "text/html": [
              "\n",
              "  <div id=\"df-9d6471e9-6749-4006-998a-cae272b31327\" class=\"colab-df-container\">\n",
              "    <div>\n",
              "<style scoped>\n",
              "    .dataframe tbody tr th:only-of-type {\n",
              "        vertical-align: middle;\n",
              "    }\n",
              "\n",
              "    .dataframe tbody tr th {\n",
              "        vertical-align: top;\n",
              "    }\n",
              "\n",
              "    .dataframe thead th {\n",
              "        text-align: right;\n",
              "    }\n",
              "</style>\n",
              "<table border=\"1\" class=\"dataframe\">\n",
              "  <thead>\n",
              "    <tr style=\"text-align: right;\">\n",
              "      <th></th>\n",
              "      <th>RowNumber</th>\n",
              "      <th>CustomerId</th>\n",
              "      <th>Surname</th>\n",
              "      <th>CreditScore</th>\n",
              "      <th>Geography</th>\n",
              "      <th>Gender</th>\n",
              "      <th>Age</th>\n",
              "      <th>Tenure</th>\n",
              "      <th>Balance</th>\n",
              "      <th>NumOfProducts</th>\n",
              "      <th>HasCrCard</th>\n",
              "      <th>IsActiveMember</th>\n",
              "      <th>EstimatedSalary</th>\n",
              "      <th>Exited</th>\n",
              "    </tr>\n",
              "  </thead>\n",
              "  <tbody>\n",
              "    <tr>\n",
              "      <th>0</th>\n",
              "      <td>1</td>\n",
              "      <td>15634602</td>\n",
              "      <td>Hargrave</td>\n",
              "      <td>619</td>\n",
              "      <td>France</td>\n",
              "      <td>Female</td>\n",
              "      <td>42</td>\n",
              "      <td>2</td>\n",
              "      <td>0.00</td>\n",
              "      <td>1</td>\n",
              "      <td>1</td>\n",
              "      <td>1</td>\n",
              "      <td>101348.88</td>\n",
              "      <td>1</td>\n",
              "    </tr>\n",
              "    <tr>\n",
              "      <th>1</th>\n",
              "      <td>2</td>\n",
              "      <td>15647311</td>\n",
              "      <td>Hill</td>\n",
              "      <td>608</td>\n",
              "      <td>Spain</td>\n",
              "      <td>Female</td>\n",
              "      <td>41</td>\n",
              "      <td>1</td>\n",
              "      <td>83807.86</td>\n",
              "      <td>1</td>\n",
              "      <td>0</td>\n",
              "      <td>1</td>\n",
              "      <td>112542.58</td>\n",
              "      <td>0</td>\n",
              "    </tr>\n",
              "    <tr>\n",
              "      <th>2</th>\n",
              "      <td>3</td>\n",
              "      <td>15619304</td>\n",
              "      <td>Onio</td>\n",
              "      <td>502</td>\n",
              "      <td>France</td>\n",
              "      <td>Female</td>\n",
              "      <td>42</td>\n",
              "      <td>8</td>\n",
              "      <td>159660.80</td>\n",
              "      <td>3</td>\n",
              "      <td>1</td>\n",
              "      <td>0</td>\n",
              "      <td>113931.57</td>\n",
              "      <td>1</td>\n",
              "    </tr>\n",
              "    <tr>\n",
              "      <th>3</th>\n",
              "      <td>4</td>\n",
              "      <td>15701354</td>\n",
              "      <td>Boni</td>\n",
              "      <td>699</td>\n",
              "      <td>France</td>\n",
              "      <td>Female</td>\n",
              "      <td>39</td>\n",
              "      <td>1</td>\n",
              "      <td>0.00</td>\n",
              "      <td>2</td>\n",
              "      <td>0</td>\n",
              "      <td>0</td>\n",
              "      <td>93826.63</td>\n",
              "      <td>0</td>\n",
              "    </tr>\n",
              "    <tr>\n",
              "      <th>4</th>\n",
              "      <td>5</td>\n",
              "      <td>15737888</td>\n",
              "      <td>Mitchell</td>\n",
              "      <td>850</td>\n",
              "      <td>Spain</td>\n",
              "      <td>Female</td>\n",
              "      <td>43</td>\n",
              "      <td>2</td>\n",
              "      <td>125510.82</td>\n",
              "      <td>1</td>\n",
              "      <td>1</td>\n",
              "      <td>1</td>\n",
              "      <td>79084.10</td>\n",
              "      <td>0</td>\n",
              "    </tr>\n",
              "  </tbody>\n",
              "</table>\n",
              "</div>\n",
              "    <div class=\"colab-df-buttons\">\n",
              "\n",
              "  <div class=\"colab-df-container\">\n",
              "    <button class=\"colab-df-convert\" onclick=\"convertToInteractive('df-9d6471e9-6749-4006-998a-cae272b31327')\"\n",
              "            title=\"Convert this dataframe to an interactive table.\"\n",
              "            style=\"display:none;\">\n",
              "\n",
              "  <svg xmlns=\"http://www.w3.org/2000/svg\" height=\"24px\" viewBox=\"0 -960 960 960\">\n",
              "    <path d=\"M120-120v-720h720v720H120Zm60-500h600v-160H180v160Zm220 220h160v-160H400v160Zm0 220h160v-160H400v160ZM180-400h160v-160H180v160Zm440 0h160v-160H620v160ZM180-180h160v-160H180v160Zm440 0h160v-160H620v160Z\"/>\n",
              "  </svg>\n",
              "    </button>\n",
              "\n",
              "  <style>\n",
              "    .colab-df-container {\n",
              "      display:flex;\n",
              "      gap: 12px;\n",
              "    }\n",
              "\n",
              "    .colab-df-convert {\n",
              "      background-color: #E8F0FE;\n",
              "      border: none;\n",
              "      border-radius: 50%;\n",
              "      cursor: pointer;\n",
              "      display: none;\n",
              "      fill: #1967D2;\n",
              "      height: 32px;\n",
              "      padding: 0 0 0 0;\n",
              "      width: 32px;\n",
              "    }\n",
              "\n",
              "    .colab-df-convert:hover {\n",
              "      background-color: #E2EBFA;\n",
              "      box-shadow: 0px 1px 2px rgba(60, 64, 67, 0.3), 0px 1px 3px 1px rgba(60, 64, 67, 0.15);\n",
              "      fill: #174EA6;\n",
              "    }\n",
              "\n",
              "    .colab-df-buttons div {\n",
              "      margin-bottom: 4px;\n",
              "    }\n",
              "\n",
              "    [theme=dark] .colab-df-convert {\n",
              "      background-color: #3B4455;\n",
              "      fill: #D2E3FC;\n",
              "    }\n",
              "\n",
              "    [theme=dark] .colab-df-convert:hover {\n",
              "      background-color: #434B5C;\n",
              "      box-shadow: 0px 1px 3px 1px rgba(0, 0, 0, 0.15);\n",
              "      filter: drop-shadow(0px 1px 2px rgba(0, 0, 0, 0.3));\n",
              "      fill: #FFFFFF;\n",
              "    }\n",
              "  </style>\n",
              "\n",
              "    <script>\n",
              "      const buttonEl =\n",
              "        document.querySelector('#df-9d6471e9-6749-4006-998a-cae272b31327 button.colab-df-convert');\n",
              "      buttonEl.style.display =\n",
              "        google.colab.kernel.accessAllowed ? 'block' : 'none';\n",
              "\n",
              "      async function convertToInteractive(key) {\n",
              "        const element = document.querySelector('#df-9d6471e9-6749-4006-998a-cae272b31327');\n",
              "        const dataTable =\n",
              "          await google.colab.kernel.invokeFunction('convertToInteractive',\n",
              "                                                    [key], {});\n",
              "        if (!dataTable) return;\n",
              "\n",
              "        const docLinkHtml = 'Like what you see? Visit the ' +\n",
              "          '<a target=\"_blank\" href=https://colab.research.google.com/notebooks/data_table.ipynb>data table notebook</a>'\n",
              "          + ' to learn more about interactive tables.';\n",
              "        element.innerHTML = '';\n",
              "        dataTable['output_type'] = 'display_data';\n",
              "        await google.colab.output.renderOutput(dataTable, element);\n",
              "        const docLink = document.createElement('div');\n",
              "        docLink.innerHTML = docLinkHtml;\n",
              "        element.appendChild(docLink);\n",
              "      }\n",
              "    </script>\n",
              "  </div>\n",
              "\n",
              "\n",
              "    <div id=\"df-65eb54a9-92ec-4a9c-90c5-c817d06fee56\">\n",
              "      <button class=\"colab-df-quickchart\" onclick=\"quickchart('df-65eb54a9-92ec-4a9c-90c5-c817d06fee56')\"\n",
              "                title=\"Suggest charts\"\n",
              "                style=\"display:none;\">\n",
              "\n",
              "<svg xmlns=\"http://www.w3.org/2000/svg\" height=\"24px\"viewBox=\"0 0 24 24\"\n",
              "     width=\"24px\">\n",
              "    <g>\n",
              "        <path d=\"M19 3H5c-1.1 0-2 .9-2 2v14c0 1.1.9 2 2 2h14c1.1 0 2-.9 2-2V5c0-1.1-.9-2-2-2zM9 17H7v-7h2v7zm4 0h-2V7h2v10zm4 0h-2v-4h2v4z\"/>\n",
              "    </g>\n",
              "</svg>\n",
              "      </button>\n",
              "\n",
              "<style>\n",
              "  .colab-df-quickchart {\n",
              "      --bg-color: #E8F0FE;\n",
              "      --fill-color: #1967D2;\n",
              "      --hover-bg-color: #E2EBFA;\n",
              "      --hover-fill-color: #174EA6;\n",
              "      --disabled-fill-color: #AAA;\n",
              "      --disabled-bg-color: #DDD;\n",
              "  }\n",
              "\n",
              "  [theme=dark] .colab-df-quickchart {\n",
              "      --bg-color: #3B4455;\n",
              "      --fill-color: #D2E3FC;\n",
              "      --hover-bg-color: #434B5C;\n",
              "      --hover-fill-color: #FFFFFF;\n",
              "      --disabled-bg-color: #3B4455;\n",
              "      --disabled-fill-color: #666;\n",
              "  }\n",
              "\n",
              "  .colab-df-quickchart {\n",
              "    background-color: var(--bg-color);\n",
              "    border: none;\n",
              "    border-radius: 50%;\n",
              "    cursor: pointer;\n",
              "    display: none;\n",
              "    fill: var(--fill-color);\n",
              "    height: 32px;\n",
              "    padding: 0;\n",
              "    width: 32px;\n",
              "  }\n",
              "\n",
              "  .colab-df-quickchart:hover {\n",
              "    background-color: var(--hover-bg-color);\n",
              "    box-shadow: 0 1px 2px rgba(60, 64, 67, 0.3), 0 1px 3px 1px rgba(60, 64, 67, 0.15);\n",
              "    fill: var(--button-hover-fill-color);\n",
              "  }\n",
              "\n",
              "  .colab-df-quickchart-complete:disabled,\n",
              "  .colab-df-quickchart-complete:disabled:hover {\n",
              "    background-color: var(--disabled-bg-color);\n",
              "    fill: var(--disabled-fill-color);\n",
              "    box-shadow: none;\n",
              "  }\n",
              "\n",
              "  .colab-df-spinner {\n",
              "    border: 2px solid var(--fill-color);\n",
              "    border-color: transparent;\n",
              "    border-bottom-color: var(--fill-color);\n",
              "    animation:\n",
              "      spin 1s steps(1) infinite;\n",
              "  }\n",
              "\n",
              "  @keyframes spin {\n",
              "    0% {\n",
              "      border-color: transparent;\n",
              "      border-bottom-color: var(--fill-color);\n",
              "      border-left-color: var(--fill-color);\n",
              "    }\n",
              "    20% {\n",
              "      border-color: transparent;\n",
              "      border-left-color: var(--fill-color);\n",
              "      border-top-color: var(--fill-color);\n",
              "    }\n",
              "    30% {\n",
              "      border-color: transparent;\n",
              "      border-left-color: var(--fill-color);\n",
              "      border-top-color: var(--fill-color);\n",
              "      border-right-color: var(--fill-color);\n",
              "    }\n",
              "    40% {\n",
              "      border-color: transparent;\n",
              "      border-right-color: var(--fill-color);\n",
              "      border-top-color: var(--fill-color);\n",
              "    }\n",
              "    60% {\n",
              "      border-color: transparent;\n",
              "      border-right-color: var(--fill-color);\n",
              "    }\n",
              "    80% {\n",
              "      border-color: transparent;\n",
              "      border-right-color: var(--fill-color);\n",
              "      border-bottom-color: var(--fill-color);\n",
              "    }\n",
              "    90% {\n",
              "      border-color: transparent;\n",
              "      border-bottom-color: var(--fill-color);\n",
              "    }\n",
              "  }\n",
              "</style>\n",
              "\n",
              "      <script>\n",
              "        async function quickchart(key) {\n",
              "          const quickchartButtonEl =\n",
              "            document.querySelector('#' + key + ' button');\n",
              "          quickchartButtonEl.disabled = true;  // To prevent multiple clicks.\n",
              "          quickchartButtonEl.classList.add('colab-df-spinner');\n",
              "          try {\n",
              "            const charts = await google.colab.kernel.invokeFunction(\n",
              "                'suggestCharts', [key], {});\n",
              "          } catch (error) {\n",
              "            console.error('Error during call to suggestCharts:', error);\n",
              "          }\n",
              "          quickchartButtonEl.classList.remove('colab-df-spinner');\n",
              "          quickchartButtonEl.classList.add('colab-df-quickchart-complete');\n",
              "        }\n",
              "        (() => {\n",
              "          let quickchartButtonEl =\n",
              "            document.querySelector('#df-65eb54a9-92ec-4a9c-90c5-c817d06fee56 button');\n",
              "          quickchartButtonEl.style.display =\n",
              "            google.colab.kernel.accessAllowed ? 'block' : 'none';\n",
              "        })();\n",
              "      </script>\n",
              "    </div>\n",
              "\n",
              "    </div>\n",
              "  </div>\n"
            ],
            "application/vnd.google.colaboratory.intrinsic+json": {
              "type": "dataframe",
              "variable_name": "df",
              "summary": "{\n  \"name\": \"df\",\n  \"rows\": 10000,\n  \"fields\": [\n    {\n      \"column\": \"RowNumber\",\n      \"properties\": {\n        \"dtype\": \"number\",\n        \"std\": 2886,\n        \"min\": 1,\n        \"max\": 10000,\n        \"num_unique_values\": 10000,\n        \"samples\": [\n          6253,\n          4685,\n          1732\n        ],\n        \"semantic_type\": \"\",\n        \"description\": \"\"\n      }\n    },\n    {\n      \"column\": \"CustomerId\",\n      \"properties\": {\n        \"dtype\": \"number\",\n        \"std\": 71936,\n        \"min\": 15565701,\n        \"max\": 15815690,\n        \"num_unique_values\": 10000,\n        \"samples\": [\n          15687492,\n          15736963,\n          15721730\n        ],\n        \"semantic_type\": \"\",\n        \"description\": \"\"\n      }\n    },\n    {\n      \"column\": \"Surname\",\n      \"properties\": {\n        \"dtype\": \"category\",\n        \"num_unique_values\": 2932,\n        \"samples\": [\n          \"McGuirk\",\n          \"Torkelson\",\n          \"Rapuluchukwu\"\n        ],\n        \"semantic_type\": \"\",\n        \"description\": \"\"\n      }\n    },\n    {\n      \"column\": \"CreditScore\",\n      \"properties\": {\n        \"dtype\": \"number\",\n        \"std\": 96,\n        \"min\": 350,\n        \"max\": 850,\n        \"num_unique_values\": 460,\n        \"samples\": [\n          754,\n          533,\n          744\n        ],\n        \"semantic_type\": \"\",\n        \"description\": \"\"\n      }\n    },\n    {\n      \"column\": \"Geography\",\n      \"properties\": {\n        \"dtype\": \"category\",\n        \"num_unique_values\": 3,\n        \"samples\": [\n          \"France\",\n          \"Spain\",\n          \"Germany\"\n        ],\n        \"semantic_type\": \"\",\n        \"description\": \"\"\n      }\n    },\n    {\n      \"column\": \"Gender\",\n      \"properties\": {\n        \"dtype\": \"category\",\n        \"num_unique_values\": 2,\n        \"samples\": [\n          \"Male\",\n          \"Female\"\n        ],\n        \"semantic_type\": \"\",\n        \"description\": \"\"\n      }\n    },\n    {\n      \"column\": \"Age\",\n      \"properties\": {\n        \"dtype\": \"number\",\n        \"std\": 10,\n        \"min\": 18,\n        \"max\": 92,\n        \"num_unique_values\": 70,\n        \"samples\": [\n          61,\n          42\n        ],\n        \"semantic_type\": \"\",\n        \"description\": \"\"\n      }\n    },\n    {\n      \"column\": \"Tenure\",\n      \"properties\": {\n        \"dtype\": \"number\",\n        \"std\": 2,\n        \"min\": 0,\n        \"max\": 10,\n        \"num_unique_values\": 11,\n        \"samples\": [\n          6,\n          2\n        ],\n        \"semantic_type\": \"\",\n        \"description\": \"\"\n      }\n    },\n    {\n      \"column\": \"Balance\",\n      \"properties\": {\n        \"dtype\": \"number\",\n        \"std\": 62397.40520238623,\n        \"min\": 0.0,\n        \"max\": 250898.09,\n        \"num_unique_values\": 6382,\n        \"samples\": [\n          117707.18,\n          133050.97\n        ],\n        \"semantic_type\": \"\",\n        \"description\": \"\"\n      }\n    },\n    {\n      \"column\": \"NumOfProducts\",\n      \"properties\": {\n        \"dtype\": \"number\",\n        \"std\": 0,\n        \"min\": 1,\n        \"max\": 4,\n        \"num_unique_values\": 4,\n        \"samples\": [\n          3,\n          4\n        ],\n        \"semantic_type\": \"\",\n        \"description\": \"\"\n      }\n    },\n    {\n      \"column\": \"HasCrCard\",\n      \"properties\": {\n        \"dtype\": \"number\",\n        \"std\": 0,\n        \"min\": 0,\n        \"max\": 1,\n        \"num_unique_values\": 2,\n        \"samples\": [\n          0,\n          1\n        ],\n        \"semantic_type\": \"\",\n        \"description\": \"\"\n      }\n    },\n    {\n      \"column\": \"IsActiveMember\",\n      \"properties\": {\n        \"dtype\": \"number\",\n        \"std\": 0,\n        \"min\": 0,\n        \"max\": 1,\n        \"num_unique_values\": 2,\n        \"samples\": [\n          0,\n          1\n        ],\n        \"semantic_type\": \"\",\n        \"description\": \"\"\n      }\n    },\n    {\n      \"column\": \"EstimatedSalary\",\n      \"properties\": {\n        \"dtype\": \"number\",\n        \"std\": 57510.49281769822,\n        \"min\": 11.58,\n        \"max\": 199992.48,\n        \"num_unique_values\": 9999,\n        \"samples\": [\n          100809.99,\n          95273.73\n        ],\n        \"semantic_type\": \"\",\n        \"description\": \"\"\n      }\n    },\n    {\n      \"column\": \"Exited\",\n      \"properties\": {\n        \"dtype\": \"number\",\n        \"std\": 0,\n        \"min\": 0,\n        \"max\": 1,\n        \"num_unique_values\": 2,\n        \"samples\": [\n          0,\n          1\n        ],\n        \"semantic_type\": \"\",\n        \"description\": \"\"\n      }\n    }\n  ]\n}"
            }
          },
          "metadata": {},
          "execution_count": 24
        }
      ]
    },
    {
      "cell_type": "markdown",
      "source": [
        "# **4. Exploratory Data Analysis (EDA)**\n",
        "\n",
        "Pada tahap ini, Anda akan melakukan **Exploratory Data Analysis (EDA)** untuk memahami karakteristik dataset.\n",
        "\n",
        "Tujuan dari EDA adalah untuk memperoleh wawasan awal yang mendalam mengenai data dan menentukan langkah selanjutnya dalam analisis atau pemodelan."
      ],
      "metadata": {
        "id": "bgZkbJLpK9UR"
      }
    },
    {
      "cell_type": "markdown",
      "source": [
        "##1.Pemahaman Awal Data dan Struktur"
      ],
      "metadata": {
        "id": "Fu92GYBNFeuM"
      }
    },
    {
      "cell_type": "code",
      "source": [
        "print(\"Dimensi Data:\")\n",
        "print(f\"Jumlah Baris: {df.shape[0]}\")\n",
        "print(f\"Jumlah Kolom: {df.shape[1]}\")\n",
        "\n",
        "print(\"\\nInformasi Tipe Data per Kolom:\")\n",
        "df.info()\n",
        "\n",
        "print(\"\\nLima Baris Pertama Data:\")\n",
        "print(df.head())\n",
        "\n",
        "print(\"\\nLima Baris Terakhir Data:\")\n",
        "print(df.tail())\n",
        "\n",
        "print(\"\\nNama-nama Kolom:\")\n",
        "print(df.columns.tolist())"
      ],
      "metadata": {
        "id": "dKeejtvxM6X1",
        "colab": {
          "base_uri": "https://localhost:8080/"
        },
        "outputId": "cdb0aa7b-ceb9-4dcb-8aa8-a130540e005c"
      },
      "execution_count": 25,
      "outputs": [
        {
          "output_type": "stream",
          "name": "stdout",
          "text": [
            "Dimensi Data:\n",
            "Jumlah Baris: 10000\n",
            "Jumlah Kolom: 14\n",
            "\n",
            "Informasi Tipe Data per Kolom:\n",
            "<class 'pandas.core.frame.DataFrame'>\n",
            "RangeIndex: 10000 entries, 0 to 9999\n",
            "Data columns (total 14 columns):\n",
            " #   Column           Non-Null Count  Dtype  \n",
            "---  ------           --------------  -----  \n",
            " 0   RowNumber        10000 non-null  int64  \n",
            " 1   CustomerId       10000 non-null  int64  \n",
            " 2   Surname          10000 non-null  object \n",
            " 3   CreditScore      10000 non-null  int64  \n",
            " 4   Geography        10000 non-null  object \n",
            " 5   Gender           10000 non-null  object \n",
            " 6   Age              10000 non-null  int64  \n",
            " 7   Tenure           10000 non-null  int64  \n",
            " 8   Balance          10000 non-null  float64\n",
            " 9   NumOfProducts    10000 non-null  int64  \n",
            " 10  HasCrCard        10000 non-null  int64  \n",
            " 11  IsActiveMember   10000 non-null  int64  \n",
            " 12  EstimatedSalary  10000 non-null  float64\n",
            " 13  Exited           10000 non-null  int64  \n",
            "dtypes: float64(2), int64(9), object(3)\n",
            "memory usage: 1.1+ MB\n",
            "\n",
            "Lima Baris Pertama Data:\n",
            "   RowNumber  CustomerId   Surname  CreditScore Geography  Gender  Age  \\\n",
            "0          1    15634602  Hargrave          619    France  Female   42   \n",
            "1          2    15647311      Hill          608     Spain  Female   41   \n",
            "2          3    15619304      Onio          502    France  Female   42   \n",
            "3          4    15701354      Boni          699    France  Female   39   \n",
            "4          5    15737888  Mitchell          850     Spain  Female   43   \n",
            "\n",
            "   Tenure    Balance  NumOfProducts  HasCrCard  IsActiveMember  \\\n",
            "0       2       0.00              1          1               1   \n",
            "1       1   83807.86              1          0               1   \n",
            "2       8  159660.80              3          1               0   \n",
            "3       1       0.00              2          0               0   \n",
            "4       2  125510.82              1          1               1   \n",
            "\n",
            "   EstimatedSalary  Exited  \n",
            "0        101348.88       1  \n",
            "1        112542.58       0  \n",
            "2        113931.57       1  \n",
            "3         93826.63       0  \n",
            "4         79084.10       0  \n",
            "\n",
            "Lima Baris Terakhir Data:\n",
            "      RowNumber  CustomerId    Surname  CreditScore Geography  Gender  Age  \\\n",
            "9995       9996    15606229   Obijiaku          771    France    Male   39   \n",
            "9996       9997    15569892  Johnstone          516    France    Male   35   \n",
            "9997       9998    15584532        Liu          709    France  Female   36   \n",
            "9998       9999    15682355  Sabbatini          772   Germany    Male   42   \n",
            "9999      10000    15628319     Walker          792    France  Female   28   \n",
            "\n",
            "      Tenure    Balance  NumOfProducts  HasCrCard  IsActiveMember  \\\n",
            "9995       5       0.00              2          1               0   \n",
            "9996      10   57369.61              1          1               1   \n",
            "9997       7       0.00              1          0               1   \n",
            "9998       3   75075.31              2          1               0   \n",
            "9999       4  130142.79              1          1               0   \n",
            "\n",
            "      EstimatedSalary  Exited  \n",
            "9995         96270.64       0  \n",
            "9996        101699.77       0  \n",
            "9997         42085.58       1  \n",
            "9998         92888.52       1  \n",
            "9999         38190.78       0  \n",
            "\n",
            "Nama-nama Kolom:\n",
            "['RowNumber', 'CustomerId', 'Surname', 'CreditScore', 'Geography', 'Gender', 'Age', 'Tenure', 'Balance', 'NumOfProducts', 'HasCrCard', 'IsActiveMember', 'EstimatedSalary', 'Exited']\n"
          ]
        }
      ]
    },
    {
      "cell_type": "markdown",
      "source": [
        "Berdasarkan data diatas, terdapat asusmi adanya  **kolom-kolom yang tidak relevan** seperti `RowNumber`, `CustomerId`, dan `Surname` karena tidak memiliki nilai prediktif untuk model. Selanjutnya, perlu dilakukan **encoding** pada fitur kategorikal seperti `Geography` dan `Gender` agar bisa dipahami oleh algoritma, sementara kolom biner seperti `HasCrCard` dan `IsActiveMember` sudah siap digunakan. Karena tidak ada *missing values* yang ditemukan, kita bisa langsung melanjutkan dengan **penskalaan data numerik** (`CreditScore`, `Age`, `Balance`, dll.) untuk menyamakan rentang nilainya dan meningkatkan performa model, terutama untuk algoritma yang sensitif terhadap skala data. Langkah-langkah ini akan mempersiapkan data secara optimal untuk tahap pemodelan selanjutnya, dengan kolom target `Exited` yang sudah dalam format biner yang ideal."
      ],
      "metadata": {
        "id": "m9ems1AEFtSO"
      }
    },
    {
      "cell_type": "markdown",
      "source": [
        "##2.Statistik Deskriptif"
      ],
      "metadata": {
        "id": "Qy3oL9mIFjd_"
      }
    },
    {
      "cell_type": "code",
      "source": [
        "print(\"Statistik Deskriptif untuk Kolom Numerik:\")\n",
        "print(df.describe())\n",
        "\n",
        "print(\"\\nStatistik Deskriptif untuk Kolom Kategorikal (count, unique, top, freq):\")\n",
        "for col in df.select_dtypes(include=['object', 'category']).columns:\n",
        "    print(f\"\\nKolom: {col}\")\n",
        "    print(df[col].describe())\n",
        "\n",
        "print(\"\\nDistribusi nilai untuk kolom 'Geography':\")\n",
        "print(df['Geography'].value_counts())\n",
        "\n",
        "print(\"\\nDistribusi nilai untuk kolom 'Gender':\")\n",
        "print(df['Gender'].value_counts())\n",
        "\n",
        "print(\"\\nDistribusi nilai untuk kolom 'NumOfProducts':\")\n",
        "print(df['NumOfProducts'].value_counts())\n",
        "\n",
        "print(\"\\nDistribusi nilai untuk kolom 'HasCrCard':\")\n",
        "print(df['HasCrCard'].value_counts())\n",
        "\n",
        "print(\"\\nDistribusi nilai untuk kolom 'IsActiveMember':\")\n",
        "print(df['IsActiveMember'].value_counts())\n",
        "\n",
        "print(\"\\nDistribusi nilai untuk kolom 'Exited' (Variabel Target):\")\n",
        "print(df['Exited'].value_counts())\n",
        "sns.countplot(x='Exited', data=df)\n",
        "plt.title('Distribusi Kelas Exited')\n",
        "plt.show()"
      ],
      "metadata": {
        "id": "Y-g8hX3DFlHy",
        "colab": {
          "base_uri": "https://localhost:8080/",
          "height": 1000
        },
        "outputId": "5ac2da30-aaec-4ab7-db55-2640435e7fac"
      },
      "execution_count": 26,
      "outputs": [
        {
          "output_type": "stream",
          "name": "stdout",
          "text": [
            "Statistik Deskriptif untuk Kolom Numerik:\n",
            "         RowNumber    CustomerId   CreditScore           Age        Tenure  \\\n",
            "count  10000.00000  1.000000e+04  10000.000000  10000.000000  10000.000000   \n",
            "mean    5000.50000  1.569094e+07    650.528800     38.921800      5.012800   \n",
            "std     2886.89568  7.193619e+04     96.653299     10.487806      2.892174   \n",
            "min        1.00000  1.556570e+07    350.000000     18.000000      0.000000   \n",
            "25%     2500.75000  1.562853e+07    584.000000     32.000000      3.000000   \n",
            "50%     5000.50000  1.569074e+07    652.000000     37.000000      5.000000   \n",
            "75%     7500.25000  1.575323e+07    718.000000     44.000000      7.000000   \n",
            "max    10000.00000  1.581569e+07    850.000000     92.000000     10.000000   \n",
            "\n",
            "             Balance  NumOfProducts    HasCrCard  IsActiveMember  \\\n",
            "count   10000.000000   10000.000000  10000.00000    10000.000000   \n",
            "mean    76485.889288       1.530200      0.70550        0.515100   \n",
            "std     62397.405202       0.581654      0.45584        0.499797   \n",
            "min         0.000000       1.000000      0.00000        0.000000   \n",
            "25%         0.000000       1.000000      0.00000        0.000000   \n",
            "50%     97198.540000       1.000000      1.00000        1.000000   \n",
            "75%    127644.240000       2.000000      1.00000        1.000000   \n",
            "max    250898.090000       4.000000      1.00000        1.000000   \n",
            "\n",
            "       EstimatedSalary        Exited  \n",
            "count     10000.000000  10000.000000  \n",
            "mean     100090.239881      0.203700  \n",
            "std       57510.492818      0.402769  \n",
            "min          11.580000      0.000000  \n",
            "25%       51002.110000      0.000000  \n",
            "50%      100193.915000      0.000000  \n",
            "75%      149388.247500      0.000000  \n",
            "max      199992.480000      1.000000  \n",
            "\n",
            "Statistik Deskriptif untuk Kolom Kategorikal (count, unique, top, freq):\n",
            "\n",
            "Kolom: Surname\n",
            "count     10000\n",
            "unique     2932\n",
            "top       Smith\n",
            "freq         32\n",
            "Name: Surname, dtype: object\n",
            "\n",
            "Kolom: Geography\n",
            "count      10000\n",
            "unique         3\n",
            "top       France\n",
            "freq        5014\n",
            "Name: Geography, dtype: object\n",
            "\n",
            "Kolom: Gender\n",
            "count     10000\n",
            "unique        2\n",
            "top        Male\n",
            "freq       5457\n",
            "Name: Gender, dtype: object\n",
            "\n",
            "Distribusi nilai untuk kolom 'Geography':\n",
            "Geography\n",
            "France     5014\n",
            "Germany    2509\n",
            "Spain      2477\n",
            "Name: count, dtype: int64\n",
            "\n",
            "Distribusi nilai untuk kolom 'Gender':\n",
            "Gender\n",
            "Male      5457\n",
            "Female    4543\n",
            "Name: count, dtype: int64\n",
            "\n",
            "Distribusi nilai untuk kolom 'NumOfProducts':\n",
            "NumOfProducts\n",
            "1    5084\n",
            "2    4590\n",
            "3     266\n",
            "4      60\n",
            "Name: count, dtype: int64\n",
            "\n",
            "Distribusi nilai untuk kolom 'HasCrCard':\n",
            "HasCrCard\n",
            "1    7055\n",
            "0    2945\n",
            "Name: count, dtype: int64\n",
            "\n",
            "Distribusi nilai untuk kolom 'IsActiveMember':\n",
            "IsActiveMember\n",
            "1    5151\n",
            "0    4849\n",
            "Name: count, dtype: int64\n",
            "\n",
            "Distribusi nilai untuk kolom 'Exited' (Variabel Target):\n",
            "Exited\n",
            "0    7963\n",
            "1    2037\n",
            "Name: count, dtype: int64\n"
          ]
        },
        {
          "output_type": "display_data",
          "data": {
            "text/plain": [
              "<Figure size 640x480 with 1 Axes>"
            ],
            "image/png": "[encoded data removed]"
          },
          "metadata": {}
        }
      ]
    },
    {
      "cell_type": "markdown",
      "source": [
        "Statistik deskriptif ini memberikan wawasan penting untuk persiapan model. Analisis menunjukkan bahwa data tidak memiliki nilai yang hilang, namun terdapat ketidakseimbangan yang signifikan pada variabel target Exited, di mana nasabah yang keluar (churn) hanya sekitar 20% dari total data, sehingga memerlukan teknik khusus untuk menanganinya. Dari sisi fitur, kolom seperti Balance menunjukkan keunikan dengan 25% data bernilai nol, sedangkan CreditScore, Age, dan EstimatedSalary memiliki rentang nilai yang lebar, yang menunjukkan perlunya penskalaan fitur sebelum melatih model. Sementara itu, kolom kategorikal seperti Geography dan Gender harus di-encoding ke dalam bentuk numerik, dan kolom identifikasi seperti Surname harus dihapus karena tidak relevan untuk pemodelan."
      ],
      "metadata": {
        "id": "ZzNf5SY5GC9q"
      }
    },
    {
      "cell_type": "markdown",
      "source": [
        "##3.Penanganan Missing Values"
      ],
      "metadata": {
        "id": "Yvu12KT-Fnxr"
      }
    },
    {
      "cell_type": "code",
      "source": [
        "print(\"Jumlah Missing Values per Kolom:\")\n",
        "print(df.isnull().sum())\n",
        "\n",
        "print(\"\\nPersentase Missing Values per Kolom:\")\n",
        "print((df.isnull().sum() / len(df)) * 100)\n",
        "\n",
        "# Visualisasi Missing Values (jika ada)\n",
        "plt.figure(figsize=(10, 6))\n",
        "sns.heatmap(df.isnull(), cbar=False, cmap='viridis')\n",
        "plt.title('Heatmap Missing Values')\n",
        "plt.show()"
      ],
      "metadata": {
        "id": "Us0kzXRaFpx5",
        "colab": {
          "base_uri": "https://localhost:8080/",
          "height": 1000
        },
        "outputId": "0187d947-f633-4448-87c0-ca1eb25fc506"
      },
      "execution_count": 27,
      "outputs": [
        {
          "output_type": "stream",
          "name": "stdout",
          "text": [
            "Jumlah Missing Values per Kolom:\n",
            "RowNumber          0\n",
            "CustomerId         0\n",
            "Surname            0\n",
            "CreditScore        0\n",
            "Geography          0\n",
            "Gender             0\n",
            "Age                0\n",
            "Tenure             0\n",
            "Balance            0\n",
            "NumOfProducts      0\n",
            "HasCrCard          0\n",
            "IsActiveMember     0\n",
            "EstimatedSalary    0\n",
            "Exited             0\n",
            "dtype: int64\n",
            "\n",
            "Persentase Missing Values per Kolom:\n",
            "RowNumber          0.0\n",
            "CustomerId         0.0\n",
            "Surname            0.0\n",
            "CreditScore        0.0\n",
            "Geography          0.0\n",
            "Gender             0.0\n",
            "Age                0.0\n",
            "Tenure             0.0\n",
            "Balance            0.0\n",
            "NumOfProducts      0.0\n",
            "HasCrCard          0.0\n",
            "IsActiveMember     0.0\n",
            "EstimatedSalary    0.0\n",
            "Exited             0.0\n",
            "dtype: float64\n"
          ]
        },
        {
          "output_type": "display_data",
          "data": {
            "text/plain": [
              "<Figure size 1000x600 with 1 Axes>"
            ],
            "image/png": "[encoded data removed]"
          },
          "metadata": {}
        }
      ]
    },
    {
      "cell_type": "markdown",
      "source": [
        "Setelah memverifikasi ulang lagi ternyata benar betul tidak ada missing value dalam dataset ini"
      ],
      "metadata": {
        "id": "X21XWhIsGFre"
      }
    },
    {
      "cell_type": "markdown",
      "source": [
        "## 4.Analisis Duplikasi Data"
      ],
      "metadata": {
        "id": "onN4LwQlFsjY"
      }
    },
    {
      "cell_type": "code",
      "source": [
        "# Mengecualikan 'RowNumber' dan 'CustomerId' karena keduanya adalah ID unik\n",
        "duplicate_columns = df.columns.drop(['RowNumber', 'CustomerId'])\n",
        "print(\"Jumlah Baris Duplikat (mengabaikan RowNumber dan CustomerId):\")\n",
        "print(df.duplicated(subset=duplicate_columns).sum())\n",
        "\n",
        "if df.duplicated(subset=duplicate_columns).sum() > 0:\n",
        "    print(\"\\nBaris Duplikat (mengabaikan RowNumber dan CustomerId):\")\n",
        "    print(df[df.duplicated(subset=duplicate_columns, keep=False)]) # Menampilkan semua duplikat\n",
        "    # df.drop_duplicates(subset=duplicate_columns, inplace=True) # Menghapus duplikat\n",
        "    # print(f\"\\nJumlah Baris Setelah Penghapusan Duplikat: {df.shape[0]}\")\n",
        "else:\n",
        "    print(\"Tidak ada duplikasi data yang signifikan (mengabaikan ID unik).\")"
      ],
      "metadata": {
        "id": "Dcb2oS50Fu2E",
        "colab": {
          "base_uri": "https://localhost:8080/"
        },
        "outputId": "4ebfe5c2-63a4-4634-eaba-0a12ba06fe09"
      },
      "execution_count": 28,
      "outputs": [
        {
          "output_type": "stream",
          "name": "stdout",
          "text": [
            "Jumlah Baris Duplikat (mengabaikan RowNumber dan CustomerId):\n",
            "0\n",
            "Tidak ada duplikasi data yang signifikan (mengabaikan ID unik).\n"
          ]
        }
      ]
    },
    {
      "cell_type": "markdown",
      "source": [
        "tidak ada data duplikasi juga yang terdeteksi dalam data ini"
      ],
      "metadata": {
        "id": "mzhZKpqbGLKM"
      }
    },
    {
      "cell_type": "markdown",
      "source": [
        "##5.Analisis Outlier"
      ],
      "metadata": {
        "id": "D5nkFBZkFwio"
      }
    },
    {
      "cell_type": "code",
      "source": [
        "print(\"Analisis Outlier untuk Kolom Numerik:\")\n",
        "\n",
        "# Kolom yang relevan untuk outlier (tidak termasuk ID dan biner)\n",
        "outlier_cols = ['CreditScore', 'Age', 'Tenure', 'Balance', 'EstimatedSalary']\n",
        "\n",
        "for col in outlier_cols:\n",
        "    plt.figure(figsize=(8, 6))\n",
        "    sns.boxplot(x=df[col])\n",
        "    plt.title(f'Box Plot of {col}')\n",
        "    plt.xlabel(col)\n",
        "    plt.show()\n",
        "\n",
        "    # Contoh identifikasi outlier menggunakan IQR (hanya contoh, tidak akan mengubah data)\n",
        "    Q1 = df[col].quantile(0.25)\n",
        "    Q3 = df[col].quantile(0.75)\n",
        "    IQR = Q3 - Q1\n",
        "    lower_bound = Q1 - 1.5 * IQR\n",
        "    upper_bound = Q3 + 1.5 * IQR\n",
        "    outliers = df[(df[col] < lower_bound) | (df[col] > upper_bound)]\n",
        "    if not outliers.empty:\n",
        "        print(f\"\\nOutlier di kolom '{col}':\")\n",
        "        print(outliers[[col]])\n",
        "    else:\n",
        "        print(f\"\\nTidak ada outlier yang terdeteksi di kolom '{col}' menggunakan metode IQR.\")"
      ],
      "metadata": {
        "id": "P4pixkGkFyJs",
        "colab": {
          "base_uri": "https://localhost:8080/",
          "height": 1000
        },
        "outputId": "f9e081ec-37e3-4680-c81e-e51469b4dea1"
      },
      "execution_count": 29,
      "outputs": [
        {
          "output_type": "stream",
          "name": "stdout",
          "text": [
            "Analisis Outlier untuk Kolom Numerik:\n"
          ]
        },
        {
          "output_type": "display_data",
          "data": {
            "text/plain": [
              "<Figure size 800x600 with 1 Axes>"
            ],
            "image/png": "[encoded data removed]"
          },
          "metadata": {}
        },
        {
          "output_type": "stream",
          "name": "stdout",
          "text": [
            "\n",
            "Outlier di kolom 'CreditScore':\n",
            "      CreditScore\n",
            "7             376\n",
            "942           376\n",
            "1193          363\n",
            "1405          359\n",
            "1631          350\n",
            "1838          350\n",
            "1962          358\n",
            "2473          351\n",
            "2579          365\n",
            "8154          367\n",
            "8723          350\n",
            "8762          350\n",
            "9210          382\n",
            "9356          373\n",
            "9624          350\n"
          ]
        },
        {
          "output_type": "display_data",
          "data": {
            "text/plain": [
              "<Figure size 800x600 with 1 Axes>"
            ],
            "image/png": "[encoded data removed]"
          },
          "metadata": {}
        },
        {
          "output_type": "stream",
          "name": "stdout",
          "text": [
            "\n",
            "Outlier di kolom 'Age':\n",
            "      Age\n",
            "58     66\n",
            "85     75\n",
            "104    65\n",
            "158    73\n",
            "181    65\n",
            "...   ...\n",
            "9753   68\n",
            "9765   64\n",
            "9832   64\n",
            "9894   77\n",
            "9936   77\n",
            "\n",
            "[359 rows x 1 columns]\n"
          ]
        },
        {
          "output_type": "display_data",
          "data": {
            "text/plain": [
              "<Figure size 800x600 with 1 Axes>"
            ],
            "image/png": "[encoded data removed]"
          },
          "metadata": {}
        },
        {
          "output_type": "stream",
          "name": "stdout",
          "text": [
            "\n",
            "Tidak ada outlier yang terdeteksi di kolom 'Tenure' menggunakan metode IQR.\n"
          ]
        },
        {
          "output_type": "display_data",
          "data": {
            "text/plain": [
              "<Figure size 800x600 with 1 Axes>"
            ],
            "image/png": "[encoded data removed]"
          },
          "metadata": {}
        },
        {
          "output_type": "stream",
          "name": "stdout",
          "text": [
            "\n",
            "Tidak ada outlier yang terdeteksi di kolom 'Balance' menggunakan metode IQR.\n"
          ]
        },
        {
          "output_type": "display_data",
          "data": {
            "text/plain": [
              "<Figure size 800x600 with 1 Axes>"
            ],
            "image/png": "[encoded data removed]"
          },
          "metadata": {}
        },
        {
          "output_type": "stream",
          "name": "stdout",
          "text": [
            "\n",
            "Tidak ada outlier yang terdeteksi di kolom 'EstimatedSalary' menggunakan metode IQR.\n"
          ]
        }
      ]
    },
    {
      "cell_type": "markdown",
      "source": [
        "Dari EDA diatas saya mengansumsikan bahwa outlier terjadi bukan karna adanya kesalahan input, melainkan benar dari data asli. Oleh karena itu saya ingin mempertahankannya dengan teknik winsorizing"
      ],
      "metadata": {
        "id": "pktMJU4GGQHd"
      }
    },
    {
      "cell_type": "markdown",
      "source": [
        "##6.Analisis Korelasi"
      ],
      "metadata": {
        "id": "gDV-8aNeF8-F"
      }
    },
    {
      "cell_type": "code",
      "source": [
        "print(\"Matriks Korelasi Antar Kolom Numerik:\")\n",
        "correlation_matrix = df.select_dtypes(include=np.number).corr()\n",
        "print(correlation_matrix)\n",
        "\n",
        "plt.figure(figsize=(12, 10))\n",
        "sns.heatmap(correlation_matrix, annot=True, cmap='coolwarm', fmt=\".2f\")\n",
        "plt.title('Heatmap Korelasi')\n",
        "plt.show()"
      ],
      "metadata": {
        "id": "5UzhJ5c-F_ZD",
        "colab": {
          "base_uri": "https://localhost:8080/",
          "height": 1000
        },
        "outputId": "205a479d-bfd6-47db-d67d-70469e5cf82a"
      },
      "execution_count": 30,
      "outputs": [
        {
          "output_type": "stream",
          "name": "stdout",
          "text": [
            "Matriks Korelasi Antar Kolom Numerik:\n",
            "                 RowNumber  CustomerId  CreditScore       Age    Tenure  \\\n",
            "RowNumber         1.000000    0.004202     0.005840  0.000783 -0.006495   \n",
            "CustomerId        0.004202    1.000000     0.005308  0.009497 -0.014883   \n",
            "CreditScore       0.005840    0.005308     1.000000 -0.003965  0.000842   \n",
            "Age               0.000783    0.009497    -0.003965  1.000000 -0.009997   \n",
            "Tenure           -0.006495   -0.014883     0.000842 -0.009997  1.000000   \n",
            "Balance          -0.009067   -0.012419     0.006268  0.028308 -0.012254   \n",
            "NumOfProducts     0.007246    0.016972     0.012238 -0.030680  0.013444   \n",
            "HasCrCard         0.000599   -0.014025    -0.005458 -0.011721  0.022583   \n",
            "IsActiveMember    0.012044    0.001665     0.025651  0.085472 -0.028362   \n",
            "EstimatedSalary  -0.005988    0.015271    -0.001384 -0.007201  0.007784   \n",
            "Exited           -0.016571   -0.006248    -0.027094  0.285323 -0.014001   \n",
            "\n",
            "                  Balance  NumOfProducts  HasCrCard  IsActiveMember  \\\n",
            "RowNumber       -0.009067       0.007246   0.000599        0.012044   \n",
            "CustomerId      -0.012419       0.016972  -0.014025        0.001665   \n",
            "CreditScore      0.006268       0.012238  -0.005458        0.025651   \n",
            "Age              0.028308      -0.030680  -0.011721        0.085472   \n",
            "Tenure          -0.012254       0.013444   0.022583       -0.028362   \n",
            "Balance          1.000000      -0.304180  -0.014858       -0.010084   \n",
            "NumOfProducts   -0.304180       1.000000   0.003183        0.009612   \n",
            "HasCrCard       -0.014858       0.003183   1.000000       -0.011866   \n",
            "IsActiveMember  -0.010084       0.009612  -0.011866        1.000000   \n",
            "EstimatedSalary  0.012797       0.014204  -0.009933       -0.011421   \n",
            "Exited           0.118533      -0.047820  -0.007138       -0.156128   \n",
            "\n",
            "                 EstimatedSalary    Exited  \n",
            "RowNumber              -0.005988 -0.016571  \n",
            "CustomerId              0.015271 -0.006248  \n",
            "CreditScore            -0.001384 -0.027094  \n",
            "Age                    -0.007201  0.285323  \n",
            "Tenure                  0.007784 -0.014001  \n",
            "Balance                 0.012797  0.118533  \n",
            "NumOfProducts           0.014204 -0.047820  \n",
            "HasCrCard              -0.009933 -0.007138  \n",
            "IsActiveMember         -0.011421 -0.156128  \n",
            "EstimatedSalary         1.000000  0.012097  \n",
            "Exited                  0.012097  1.000000  \n"
          ]
        },
        {
          "output_type": "display_data",
          "data": {
            "text/plain": [
              "<Figure size 1200x1000 with 2 Axes>"
            ],
            "image/png": "[encoded data removed]"
          },
          "metadata": {}
        }
      ]
    },
    {
      "cell_type": "markdown",
      "source": [
        "tidak ada tanda tandanya multikolinearitas jadi kita biarkan saja"
      ],
      "metadata": {
        "id": "FnNQgZObHMCh"
      }
    },
    {
      "cell_type": "markdown",
      "source": [
        "##7.Analisis Kardinalitas Kolom Kategorikal"
      ],
      "metadata": {
        "id": "Ka3q8GymGIkH"
      }
    },
    {
      "cell_type": "code",
      "source": [
        "print(\"Kardinalitas Kolom Kategorikal:\")\n",
        "\n",
        "for col in df.select_dtypes(include=['object', 'category']).columns:\n",
        "    unique_count = df[col].nunique()\n",
        "    print(f\"Kolom '{col}': {unique_count} nilai unik\")\n",
        "\n",
        "# Kolom 'Surname' memiliki kardinalitas tinggi karena ini adalah nama unik.\n",
        "# Kolom ini biasanya dihapus dalam analisis churn."
      ],
      "metadata": {
        "id": "D9UXrQRcGJI7",
        "colab": {
          "base_uri": "https://localhost:8080/"
        },
        "outputId": "0bef83bd-00bb-4df5-cc21-de6942a3eebb"
      },
      "execution_count": 31,
      "outputs": [
        {
          "output_type": "stream",
          "name": "stdout",
          "text": [
            "Kardinalitas Kolom Kategorikal:\n",
            "Kolom 'Surname': 2932 nilai unik\n",
            "Kolom 'Geography': 3 nilai unik\n",
            "Kolom 'Gender': 2 nilai unik\n"
          ]
        }
      ]
    },
    {
      "cell_type": "markdown",
      "source": [
        "surname akan kita hapus karena ada indikasi terjadinya kardinalitas"
      ],
      "metadata": {
        "id": "dK5oe2j2HT24"
      }
    },
    {
      "cell_type": "markdown",
      "source": [
        "##8.Kesimpulan"
      ],
      "metadata": {
        "id": "I5DNKtslIV_l"
      }
    },
    {
      "cell_type": "markdown",
      "source": [
        "Dari hasil EDA yang Anda sampaikan, dapat disimpulkan bahwa data Anda berada dalam kondisi yang cukup baik untuk tahap pemodelan. Beberapa poin penting yang ditemukan antara lain:\n",
        "* **Tidak ada *Missing Values***: Hal ini sangat baik karena Anda tidak perlu melakukan imputasi atau penghapusan data.\n",
        "* **Tidak ada Data Duplikat**: Ini juga menunjukkan kualitas data yang bersih dari entri ganda.\n",
        "* **Ketidakseimbangan Kelas (Class Imbalance)**: Variabel target **`Exited`** menunjukkan ketidakseimbangan yang signifikan (churn hanya 20%). Ini adalah masalah krusial yang memerlukan penanganan khusus (misalnya, oversampling atau undersampling) agar model tidak bias terhadap kelas mayoritas.\n",
        "* **Adanya *Outliers***: Anda telah mengidentifikasi adanya *outliers* dan beranggapan bahwa itu adalah data asli, sehingga Anda memutuskan untuk menanganinya dengan teknik **winsorizing** untuk menjaga informasi yang terkandung dalam data tersebut.\n",
        "* **Kardinalitas Tinggi**: Kolom **`Surname`** memiliki kardinalitas yang tinggi, yang menjadikannya tidak relevan dan berpotensi mengganggu performa model.\n",
        "* **Tidak Ada Multikolinearitas**: Ini adalah kabar baik, karena Anda tidak perlu melakukan penghapusan fitur berdasarkan hubungan linier yang kuat antar variabel.\n",
        "\n",
        "---\n",
        "\n",
        "**Langkah Preprocessing yang Harus Dilakukan**\n",
        "\n",
        "1.  **Penghapusan Fitur yang Tidak Relevan**: Hapus kolom **`RowNumber`**, **`CustomerId`**, dan **`Surname`**. Ketiga kolom ini tidak memiliki nilai prediktif untuk model.\n",
        "2.  **Encoding Fitur Kategorikal**: Lakukan *encoding* pada kolom **`Geography`** dan **`Gender`** agar dapat dipahami oleh algoritma *machine learning*. Pilihan yang umum adalah **One-Hot Encoding** untuk `Geography` dan **Label Encoding** untuk `Gender` (karena hanya memiliki dua kategori).\n",
        "3.  **Penskalaan Data Numerik**: Lakukan penskalaan pada kolom numerik seperti **`CreditScore`**, **`Age`**, **`Balance`**, dan **`EstimatedSalary`**. Penskalaan ini penting untuk menyamakan rentang nilai dan meningkatkan performa model, terutama pada algoritma yang sensitif terhadap skala seperti SVM atau regresi. Teknik yang bisa digunakan adalah **StandardScaler**.\n",
        "4.  **Penanganan *Outliers***: Terapkan teknik **winsorizing** pada fitur-fitur yang teridentifikasi memiliki *outliers* untuk membatasi nilai-nilai ekstrem tersebut tanpa menghapusnya.\n",
        "5.  **Penanganan Ketidakseimbangan Kelas**: Terapkan teknik seperti **SMOTE (Synthetic Minority Over-sampling Technique)** atau *undersampling* pada variabel target **`Exited`** untuk menyeimbangkan jumlah data antara kelas mayoritas dan minoritas. Langkah ini sangat penting untuk memastikan model dapat memprediksi kelas minoritas (nasabah yang keluar) dengan akurat.\n",
        "\n",
        "---\n",
        "\n",
        "**Langkah Preprocessing yang Tidak Perlu Dilakukan**\n",
        "\n",
        "1.  **Penanganan *Missing Values***: Karena Anda telah memverifikasi bahwa tidak ada nilai yang hilang dalam dataset.\n",
        "2.  **Penghapusan Data Duplikat**: Karena tidak ada data duplikat yang terdeteksi.\n",
        "3.  **Penghapusan Fitur karena Multikolinearitas**: Karena Anda telah mengonfirmasi bahwa tidak ada tanda-tanda multikolinearitas."
      ],
      "metadata": {
        "id": "7gxwhcn5Ic1Y"
      }
    },
    {
      "cell_type": "markdown",
      "source": [
        "# **5. Data Preprocessing**"
      ],
      "metadata": {
        "id": "cpgHfgnSK3ip"
      }
    },
    {
      "cell_type": "markdown",
      "source": [
        "Pada tahap ini, data preprocessing adalah langkah penting untuk memastikan kualitas data sebelum digunakan dalam model machine learning.\n",
        "\n",
        "Jika Anda menggunakan data teks, data mentah sering kali mengandung nilai kosong, duplikasi, atau rentang nilai yang tidak konsisten, yang dapat memengaruhi kinerja model. Oleh karena itu, proses ini bertujuan untuk membersihkan dan mempersiapkan data agar analisis berjalan optimal.\n",
        "\n",
        "Berikut adalah tahapan-tahapan yang bisa dilakukan, tetapi **tidak terbatas** pada:\n",
        "1. Menghapus atau Menangani Data Kosong (Missing Values)\n",
        "2. Menghapus Data Duplikat\n",
        "3. Normalisasi atau Standarisasi Fitur\n",
        "4. Deteksi dan Penanganan Outlier\n",
        "5. Encoding Data Kategorikal\n",
        "6. Binning (Pengelompokan Data)\n",
        "\n",
        "Cukup sesuaikan dengan karakteristik data yang kamu gunakan yah. Khususnya ketika kami menggunakan data tidak terstruktur."
      ],
      "metadata": {
        "id": "COf8KUPXLg5r"
      }
    },
    {
      "cell_type": "markdown",
      "source": [
        "##1.Menghapus atau Menangani Data Kosong (Missing Values)"
      ],
      "metadata": {
        "id": "RYl_bY6dGS3M"
      }
    },
    {
      "cell_type": "markdown",
      "source": [
        "Dari EDA yang telah dilakukan tidak adanya missing value yang terdeteksi sehingga kita tidak perlu melakukan tahapan ini"
      ],
      "metadata": {
        "id": "-MpWm_bNDFB6"
      }
    },
    {
      "cell_type": "markdown",
      "source": [
        "##2.Menghapus Data Duplikat"
      ],
      "metadata": {
        "id": "6j_GF8rrGZPt"
      }
    },
    {
      "cell_type": "markdown",
      "source": [
        "Dari EDA yang telah dilakukan tidak adanya Data Duplikat yang terdeteksi sehingga kita tidak perlu melakukan tahapan ini"
      ],
      "metadata": {
        "id": "MDhWzRI-DNsz"
      }
    },
    {
      "cell_type": "markdown",
      "source": [
        "##3.Encode"
      ],
      "metadata": {
        "id": "zRb8VUwgGjl_"
      }
    },
    {
      "cell_type": "code",
      "source": [
        "df_encoded = pd.get_dummies(df.copy(), columns=['Gender', 'Geography'], drop_first=True)\n",
        "\n",
        "# Menampilkan 5 baris pertama dari DataFrame yang sudah di-encoded\n",
        "print(\"DataFrame setelah One-Hot Encoding:\")\n",
        "print(df_encoded.head())\n",
        "\n",
        "# Menampilkan kolom-kolom baru yang terbentuk\n",
        "print(\"\\nKolom-kolom baru setelah encoding:\")\n",
        "print([col for col in df_encoded.columns if 'Gender_' in col or 'Geography_' in col])"
      ],
      "metadata": {
        "id": "1mbcgLpMGk5H",
        "colab": {
          "base_uri": "https://localhost:8080/"
        },
        "outputId": "c466e5f0-3792-4a62-c7a6-2d1f594602a4"
      },
      "execution_count": 32,
      "outputs": [
        {
          "output_type": "stream",
          "name": "stdout",
          "text": [
            "DataFrame setelah One-Hot Encoding:\n",
            "   RowNumber  CustomerId   Surname  CreditScore  Age  Tenure    Balance  \\\n",
            "0          1    15634602  Hargrave          619   42       2       0.00   \n",
            "1          2    15647311      Hill          608   41       1   83807.86   \n",
            "2          3    15619304      Onio          502   42       8  159660.80   \n",
            "3          4    15701354      Boni          699   39       1       0.00   \n",
            "4          5    15737888  Mitchell          850   43       2  125510.82   \n",
            "\n",
            "   NumOfProducts  HasCrCard  IsActiveMember  EstimatedSalary  Exited  \\\n",
            "0              1          1               1        101348.88       1   \n",
            "1              1          0               1        112542.58       0   \n",
            "2              3          1               0        113931.57       1   \n",
            "3              2          0               0         93826.63       0   \n",
            "4              1          1               1         79084.10       0   \n",
            "\n",
            "   Gender_Male  Geography_Germany  Geography_Spain  \n",
            "0        False              False            False  \n",
            "1        False              False             True  \n",
            "2        False              False            False  \n",
            "3        False              False            False  \n",
            "4        False              False             True  \n",
            "\n",
            "Kolom-kolom baru setelah encoding:\n",
            "['Gender_Male', 'Geography_Germany', 'Geography_Spain']\n"
          ]
        }
      ]
    },
    {
      "cell_type": "markdown",
      "source": [
        "##4.Konversi Tipe Data"
      ],
      "metadata": {
        "id": "_uCbDXvgDXLA"
      }
    },
    {
      "cell_type": "code",
      "source": [
        "import pandas as pd\n",
        "\n",
        "# Assuming your data is in a DataFrame called 'df'\n",
        "# Replace 'df' with the actual name of your DataFrame\n",
        "\n",
        "# List of columns to convert\n",
        "columns_to_convert = ['Gender_Male', 'Geography_Germany', 'Geography_Spain']\n",
        "\n",
        "for col in columns_to_convert:\n",
        "    df_encoded[col] = df_encoded[col].astype(int)\n",
        "\n",
        "print(df_encoded[columns_to_convert].head()) # To see the converted columns"
      ],
      "metadata": {
        "colab": {
          "base_uri": "https://localhost:8080/"
        },
        "id": "KPmYM-AKDWvj",
        "outputId": "af98be0a-5687-4a1f-b381-81de884993d7"
      },
      "execution_count": 33,
      "outputs": [
        {
          "output_type": "stream",
          "name": "stdout",
          "text": [
            "   Gender_Male  Geography_Germany  Geography_Spain\n",
            "0            0                  0                0\n",
            "1            0                  0                1\n",
            "2            0                  0                0\n",
            "3            0                  0                0\n",
            "4            0                  0                1\n"
          ]
        }
      ]
    },
    {
      "cell_type": "code",
      "source": [
        "df_encoded"
      ],
      "metadata": {
        "id": "cLGTl7UOGqHo",
        "colab": {
          "base_uri": "https://localhost:8080/",
          "height": 443
        },
        "outputId": "bd88bc18-89e9-471b-b0f7-8695098322f7"
      },
      "execution_count": 34,
      "outputs": [
        {
          "output_type": "execute_result",
          "data": {
            "text/plain": [
              "      RowNumber  CustomerId    Surname  CreditScore  Age  Tenure    Balance  \\\n",
              "0             1    15634602   Hargrave          619   42       2       0.00   \n",
              "1             2    15647311       Hill          608   41       1   83807.86   \n",
              "2             3    15619304       Onio          502   42       8  159660.80   \n",
              "3             4    15701354       Boni          699   39       1       0.00   \n",
              "4             5    15737888   Mitchell          850   43       2  125510.82   \n",
              "...         ...         ...        ...          ...  ...     ...        ...   \n",
              "9995       9996    15606229   Obijiaku          771   39       5       0.00   \n",
              "9996       9997    15569892  Johnstone          516   35      10   57369.61   \n",
              "9997       9998    15584532        Liu          709   36       7       0.00   \n",
              "9998       9999    15682355  Sabbatini          772   42       3   75075.31   \n",
              "9999      10000    15628319     Walker          792   28       4  130142.79   \n",
              "\n",
              "      NumOfProducts  HasCrCard  IsActiveMember  EstimatedSalary  Exited  \\\n",
              "0                 1          1               1        101348.88       1   \n",
              "1                 1          0               1        112542.58       0   \n",
              "2                 3          1               0        113931.57       1   \n",
              "3                 2          0               0         93826.63       0   \n",
              "4                 1          1               1         79084.10       0   \n",
              "...             ...        ...             ...              ...     ...   \n",
              "9995              2          1               0         96270.64       0   \n",
              "9996              1          1               1        101699.77       0   \n",
              "9997              1          0               1         42085.58       1   \n",
              "9998              2          1               0         92888.52       1   \n",
              "9999              1          1               0         38190.78       0   \n",
              "\n",
              "      Gender_Male  Geography_Germany  Geography_Spain  \n",
              "0               0                  0                0  \n",
              "1               0                  0                1  \n",
              "2               0                  0                0  \n",
              "3               0                  0                0  \n",
              "4               0                  0                1  \n",
              "...           ...                ...              ...  \n",
              "9995            1                  0                0  \n",
              "9996            1                  0                0  \n",
              "9997            0                  0                0  \n",
              "9998            1                  1                0  \n",
              "9999            0                  0                0  \n",
              "\n",
              "[10000 rows x 15 columns]"
            ],
            "text/html": [
              "\n",
              "  <div id=\"df-f422c930-0666-4d12-a7e2-fa7f3fb0e7e0\" class=\"colab-df-container\">\n",
              "    <div>\n",
              "<style scoped>\n",
              "    .dataframe tbody tr th:only-of-type {\n",
              "        vertical-align: middle;\n",
              "    }\n",
              "\n",
              "    .dataframe tbody tr th {\n",
              "        vertical-align: top;\n",
              "    }\n",
              "\n",
              "    .dataframe thead th {\n",
              "        text-align: right;\n",
              "    }\n",
              "</style>\n",
              "<table border=\"1\" class=\"dataframe\">\n",
              "  <thead>\n",
              "    <tr style=\"text-align: right;\">\n",
              "      <th></th>\n",
              "      <th>RowNumber</th>\n",
              "      <th>CustomerId</th>\n",
              "      <th>Surname</th>\n",
              "      <th>CreditScore</th>\n",
              "      <th>Age</th>\n",
              "      <th>Tenure</th>\n",
              "      <th>Balance</th>\n",
              "      <th>NumOfProducts</th>\n",
              "      <th>HasCrCard</th>\n",
              "      <th>IsActiveMember</th>\n",
              "      <th>EstimatedSalary</th>\n",
              "      <th>Exited</th>\n",
              "      <th>Gender_Male</th>\n",
              "      <th>Geography_Germany</th>\n",
              "      <th>Geography_Spain</th>\n",
              "    </tr>\n",
              "  </thead>\n",
              "  <tbody>\n",
              "    <tr>\n",
              "      <th>0</th>\n",
              "      <td>1</td>\n",
              "      <td>15634602</td>\n",
              "      <td>Hargrave</td>\n",
              "      <td>619</td>\n",
              "      <td>42</td>\n",
              "      <td>2</td>\n",
              "      <td>0.00</td>\n",
              "      <td>1</td>\n",
              "      <td>1</td>\n",
              "      <td>1</td>\n",
              "      <td>101348.88</td>\n",
              "      <td>1</td>\n",
              "      <td>0</td>\n",
              "      <td>0</td>\n",
              "      <td>0</td>\n",
              "    </tr>\n",
              "    <tr>\n",
              "      <th>1</th>\n",
              "      <td>2</td>\n",
              "      <td>15647311</td>\n",
              "      <td>Hill</td>\n",
              "      <td>608</td>\n",
              "      <td>41</td>\n",
              "      <td>1</td>\n",
              "      <td>83807.86</td>\n",
              "      <td>1</td>\n",
              "      <td>0</td>\n",
              "      <td>1</td>\n",
              "      <td>112542.58</td>\n",
              "      <td>0</td>\n",
              "      <td>0</td>\n",
              "      <td>0</td>\n",
              "      <td>1</td>\n",
              "    </tr>\n",
              "    <tr>\n",
              "      <th>2</th>\n",
              "      <td>3</td>\n",
              "      <td>15619304</td>\n",
              "      <td>Onio</td>\n",
              "      <td>502</td>\n",
              "      <td>42</td>\n",
              "      <td>8</td>\n",
              "      <td>159660.80</td>\n",
              "      <td>3</td>\n",
              "      <td>1</td>\n",
              "      <td>0</td>\n",
              "      <td>113931.57</td>\n",
              "      <td>1</td>\n",
              "      <td>0</td>\n",
              "      <td>0</td>\n",
              "      <td>0</td>\n",
              "    </tr>\n",
              "    <tr>\n",
              "      <th>3</th>\n",
              "      <td>4</td>\n",
              "      <td>15701354</td>\n",
              "      <td>Boni</td>\n",
              "      <td>699</td>\n",
              "      <td>39</td>\n",
              "      <td>1</td>\n",
              "      <td>0.00</td>\n",
              "      <td>2</td>\n",
              "      <td>0</td>\n",
              "      <td>0</td>\n",
              "      <td>93826.63</td>\n",
              "      <td>0</td>\n",
              "      <td>0</td>\n",
              "      <td>0</td>\n",
              "      <td>0</td>\n",
              "    </tr>\n",
              "    <tr>\n",
              "      <th>4</th>\n",
              "      <td>5</td>\n",
              "      <td>15737888</td>\n",
              "      <td>Mitchell</td>\n",
              "      <td>850</td>\n",
              "      <td>43</td>\n",
              "      <td>2</td>\n",
              "      <td>125510.82</td>\n",
              "      <td>1</td>\n",
              "      <td>1</td>\n",
              "      <td>1</td>\n",
              "      <td>79084.10</td>\n",
              "      <td>0</td>\n",
              "      <td>0</td>\n",
              "      <td>0</td>\n",
              "      <td>1</td>\n",
              "    </tr>\n",
              "    <tr>\n",
              "      <th>...</th>\n",
              "      <td>...</td>\n",
              "      <td>...</td>\n",
              "      <td>...</td>\n",
              "      <td>...</td>\n",
              "      <td>...</td>\n",
              "      <td>...</td>\n",
              "      <td>...</td>\n",
              "      <td>...</td>\n",
              "      <td>...</td>\n",
              "      <td>...</td>\n",
              "      <td>...</td>\n",
              "      <td>...</td>\n",
              "      <td>...</td>\n",
              "      <td>...</td>\n",
              "      <td>...</td>\n",
              "    </tr>\n",
              "    <tr>\n",
              "      <th>9995</th>\n",
              "      <td>9996</td>\n",
              "      <td>15606229</td>\n",
              "      <td>Obijiaku</td>\n",
              "      <td>771</td>\n",
              "      <td>39</td>\n",
              "      <td>5</td>\n",
              "      <td>0.00</td>\n",
              "      <td>2</td>\n",
              "      <td>1</td>\n",
              "      <td>0</td>\n",
              "      <td>96270.64</td>\n",
              "      <td>0</td>\n",
              "      <td>1</td>\n",
              "      <td>0</td>\n",
              "      <td>0</td>\n",
              "    </tr>\n",
              "    <tr>\n",
              "      <th>9996</th>\n",
              "      <td>9997</td>\n",
              "      <td>15569892</td>\n",
              "      <td>Johnstone</td>\n",
              "      <td>516</td>\n",
              "      <td>35</td>\n",
              "      <td>10</td>\n",
              "      <td>57369.61</td>\n",
              "      <td>1</td>\n",
              "      <td>1</td>\n",
              "      <td>1</td>\n",
              "      <td>101699.77</td>\n",
              "      <td>0</td>\n",
              "      <td>1</td>\n",
              "      <td>0</td>\n",
              "      <td>0</td>\n",
              "    </tr>\n",
              "    <tr>\n",
              "      <th>9997</th>\n",
              "      <td>9998</td>\n",
              "      <td>15584532</td>\n",
              "      <td>Liu</td>\n",
              "      <td>709</td>\n",
              "      <td>36</td>\n",
              "      <td>7</td>\n",
              "      <td>0.00</td>\n",
              "      <td>1</td>\n",
              "      <td>0</td>\n",
              "      <td>1</td>\n",
              "      <td>42085.58</td>\n",
              "      <td>1</td>\n",
              "      <td>0</td>\n",
              "      <td>0</td>\n",
              "      <td>0</td>\n",
              "    </tr>\n",
              "    <tr>\n",
              "      <th>9998</th>\n",
              "      <td>9999</td>\n",
              "      <td>15682355</td>\n",
              "      <td>Sabbatini</td>\n",
              "      <td>772</td>\n",
              "      <td>42</td>\n",
              "      <td>3</td>\n",
              "      <td>75075.31</td>\n",
              "      <td>2</td>\n",
              "      <td>1</td>\n",
              "      <td>0</td>\n",
              "      <td>92888.52</td>\n",
              "      <td>1</td>\n",
              "      <td>1</td>\n",
              "      <td>1</td>\n",
              "      <td>0</td>\n",
              "    </tr>\n",
              "    <tr>\n",
              "      <th>9999</th>\n",
              "      <td>10000</td>\n",
              "      <td>15628319</td>\n",
              "      <td>Walker</td>\n",
              "      <td>792</td>\n",
              "      <td>28</td>\n",
              "      <td>4</td>\n",
              "      <td>130142.79</td>\n",
              "      <td>1</td>\n",
              "      <td>1</td>\n",
              "      <td>0</td>\n",
              "      <td>38190.78</td>\n",
              "      <td>0</td>\n",
              "      <td>0</td>\n",
              "      <td>0</td>\n",
              "      <td>0</td>\n",
              "    </tr>\n",
              "  </tbody>\n",
              "</table>\n",
              "<p>10000 rows × 15 columns</p>\n",
              "</div>\n",
              "    <div class=\"colab-df-buttons\">\n",
              "\n",
              "  <div class=\"colab-df-container\">\n",
              "    <button class=\"colab-df-convert\" onclick=\"convertToInteractive('df-f422c930-0666-4d12-a7e2-fa7f3fb0e7e0')\"\n",
              "            title=\"Convert this dataframe to an interactive table.\"\n",
              "            style=\"display:none;\">\n",
              "\n",
              "  <svg xmlns=\"http://www.w3.org/2000/svg\" height=\"24px\" viewBox=\"0 -960 960 960\">\n",
              "    <path d=\"M120-120v-720h720v720H120Zm60-500h600v-160H180v160Zm220 220h160v-160H400v160Zm0 220h160v-160H400v160ZM180-400h160v-160H180v160Zm440 0h160v-160H620v160ZM180-180h160v-160H180v160Zm440 0h160v-160H620v160Z\"/>\n",
              "  </svg>\n",
              "    </button>\n",
              "\n",
              "  <style>\n",
              "    .colab-df-container {\n",
              "      display:flex;\n",
              "      gap: 12px;\n",
              "    }\n",
              "\n",
              "    .colab-df-convert {\n",
              "      background-color: #E8F0FE;\n",
              "      border: none;\n",
              "      border-radius: 50%;\n",
              "      cursor: pointer;\n",
              "      display: none;\n",
              "      fill: #1967D2;\n",
              "      height: 32px;\n",
              "      padding: 0 0 0 0;\n",
              "      width: 32px;\n",
              "    }\n",
              "\n",
              "    .colab-df-convert:hover {\n",
              "      background-color: #E2EBFA;\n",
              "      box-shadow: 0px 1px 2px rgba(60, 64, 67, 0.3), 0px 1px 3px 1px rgba(60, 64, 67, 0.15);\n",
              "      fill: #174EA6;\n",
              "    }\n",
              "\n",
              "    .colab-df-buttons div {\n",
              "      margin-bottom: 4px;\n",
              "    }\n",
              "\n",
              "    [theme=dark] .colab-df-convert {\n",
              "      background-color: #3B4455;\n",
              "      fill: #D2E3FC;\n",
              "    }\n",
              "\n",
              "    [theme=dark] .colab-df-convert:hover {\n",
              "      background-color: #434B5C;\n",
              "      box-shadow: 0px 1px 3px 1px rgba(0, 0, 0, 0.15);\n",
              "      filter: drop-shadow(0px 1px 2px rgba(0, 0, 0, 0.3));\n",
              "      fill: #FFFFFF;\n",
              "    }\n",
              "  </style>\n",
              "\n",
              "    <script>\n",
              "      const buttonEl =\n",
              "        document.querySelector('#df-f422c930-0666-4d12-a7e2-fa7f3fb0e7e0 button.colab-df-convert');\n",
              "      buttonEl.style.display =\n",
              "        google.colab.kernel.accessAllowed ? 'block' : 'none';\n",
              "\n",
              "      async function convertToInteractive(key) {\n",
              "        const element = document.querySelector('#df-f422c930-0666-4d12-a7e2-fa7f3fb0e7e0');\n",
              "        const dataTable =\n",
              "          await google.colab.kernel.invokeFunction('convertToInteractive',\n",
              "                                                    [key], {});\n",
              "        if (!dataTable) return;\n",
              "\n",
              "        const docLinkHtml = 'Like what you see? Visit the ' +\n",
              "          '<a target=\"_blank\" href=https://colab.research.google.com/notebooks/data_table.ipynb>data table notebook</a>'\n",
              "          + ' to learn more about interactive tables.';\n",
              "        element.innerHTML = '';\n",
              "        dataTable['output_type'] = 'display_data';\n",
              "        await google.colab.output.renderOutput(dataTable, element);\n",
              "        const docLink = document.createElement('div');\n",
              "        docLink.innerHTML = docLinkHtml;\n",
              "        element.appendChild(docLink);\n",
              "      }\n",
              "    </script>\n",
              "  </div>\n",
              "\n",
              "\n",
              "    <div id=\"df-7235afed-65dd-4aa7-8ad8-9b4005d4d8f4\">\n",
              "      <button class=\"colab-df-quickchart\" onclick=\"quickchart('df-7235afed-65dd-4aa7-8ad8-9b4005d4d8f4')\"\n",
              "                title=\"Suggest charts\"\n",
              "                style=\"display:none;\">\n",
              "\n",
              "<svg xmlns=\"http://www.w3.org/2000/svg\" height=\"24px\"viewBox=\"0 0 24 24\"\n",
              "     width=\"24px\">\n",
              "    <g>\n",
              "        <path d=\"M19 3H5c-1.1 0-2 .9-2 2v14c0 1.1.9 2 2 2h14c1.1 0 2-.9 2-2V5c0-1.1-.9-2-2-2zM9 17H7v-7h2v7zm4 0h-2V7h2v10zm4 0h-2v-4h2v4z\"/>\n",
              "    </g>\n",
              "</svg>\n",
              "      </button>\n",
              "\n",
              "<style>\n",
              "  .colab-df-quickchart {\n",
              "      --bg-color: #E8F0FE;\n",
              "      --fill-color: #1967D2;\n",
              "      --hover-bg-color: #E2EBFA;\n",
              "      --hover-fill-color: #174EA6;\n",
              "      --disabled-fill-color: #AAA;\n",
              "      --disabled-bg-color: #DDD;\n",
              "  }\n",
              "\n",
              "  [theme=dark] .colab-df-quickchart {\n",
              "      --bg-color: #3B4455;\n",
              "      --fill-color: #D2E3FC;\n",
              "      --hover-bg-color: #434B5C;\n",
              "      --hover-fill-color: #FFFFFF;\n",
              "      --disabled-bg-color: #3B4455;\n",
              "      --disabled-fill-color: #666;\n",
              "  }\n",
              "\n",
              "  .colab-df-quickchart {\n",
              "    background-color: var(--bg-color);\n",
              "    border: none;\n",
              "    border-radius: 50%;\n",
              "    cursor: pointer;\n",
              "    display: none;\n",
              "    fill: var(--fill-color);\n",
              "    height: 32px;\n",
              "    padding: 0;\n",
              "    width: 32px;\n",
              "  }\n",
              "\n",
              "  .colab-df-quickchart:hover {\n",
              "    background-color: var(--hover-bg-color);\n",
              "    box-shadow: 0 1px 2px rgba(60, 64, 67, 0.3), 0 1px 3px 1px rgba(60, 64, 67, 0.15);\n",
              "    fill: var(--button-hover-fill-color);\n",
              "  }\n",
              "\n",
              "  .colab-df-quickchart-complete:disabled,\n",
              "  .colab-df-quickchart-complete:disabled:hover {\n",
              "    background-color: var(--disabled-bg-color);\n",
              "    fill: var(--disabled-fill-color);\n",
              "    box-shadow: none;\n",
              "  }\n",
              "\n",
              "  .colab-df-spinner {\n",
              "    border: 2px solid var(--fill-color);\n",
              "    border-color: transparent;\n",
              "    border-bottom-color: var(--fill-color);\n",
              "    animation:\n",
              "      spin 1s steps(1) infinite;\n",
              "  }\n",
              "\n",
              "  @keyframes spin {\n",
              "    0% {\n",
              "      border-color: transparent;\n",
              "      border-bottom-color: var(--fill-color);\n",
              "      border-left-color: var(--fill-color);\n",
              "    }\n",
              "    20% {\n",
              "      border-color: transparent;\n",
              "      border-left-color: var(--fill-color);\n",
              "      border-top-color: var(--fill-color);\n",
              "    }\n",
              "    30% {\n",
              "      border-color: transparent;\n",
              "      border-left-color: var(--fill-color);\n",
              "      border-top-color: var(--fill-color);\n",
              "      border-right-color: var(--fill-color);\n",
              "    }\n",
              "    40% {\n",
              "      border-color: transparent;\n",
              "      border-right-color: var(--fill-color);\n",
              "      border-top-color: var(--fill-color);\n",
              "    }\n",
              "    60% {\n",
              "      border-color: transparent;\n",
              "      border-right-color: var(--fill-color);\n",
              "    }\n",
              "    80% {\n",
              "      border-color: transparent;\n",
              "      border-right-color: var(--fill-color);\n",
              "      border-bottom-color: var(--fill-color);\n",
              "    }\n",
              "    90% {\n",
              "      border-color: transparent;\n",
              "      border-bottom-color: var(--fill-color);\n",
              "    }\n",
              "  }\n",
              "</style>\n",
              "\n",
              "      <script>\n",
              "        async function quickchart(key) {\n",
              "          const quickchartButtonEl =\n",
              "            document.querySelector('#' + key + ' button');\n",
              "          quickchartButtonEl.disabled = true;  // To prevent multiple clicks.\n",
              "          quickchartButtonEl.classList.add('colab-df-spinner');\n",
              "          try {\n",
              "            const charts = await google.colab.kernel.invokeFunction(\n",
              "                'suggestCharts', [key], {});\n",
              "          } catch (error) {\n",
              "            console.error('Error during call to suggestCharts:', error);\n",
              "          }\n",
              "          quickchartButtonEl.classList.remove('colab-df-spinner');\n",
              "          quickchartButtonEl.classList.add('colab-df-quickchart-complete');\n",
              "        }\n",
              "        (() => {\n",
              "          let quickchartButtonEl =\n",
              "            document.querySelector('#df-7235afed-65dd-4aa7-8ad8-9b4005d4d8f4 button');\n",
              "          quickchartButtonEl.style.display =\n",
              "            google.colab.kernel.accessAllowed ? 'block' : 'none';\n",
              "        })();\n",
              "      </script>\n",
              "    </div>\n",
              "\n",
              "  <div id=\"id_df036c90-f130-49cc-a5ce-156fd1f23c1a\">\n",
              "    <style>\n",
              "      .colab-df-generate {\n",
              "        background-color: #E8F0FE;\n",
              "        border: none;\n",
              "        border-radius: 50%;\n",
              "        cursor: pointer;\n",
              "        display: none;\n",
              "        fill: #1967D2;\n",
              "        height: 32px;\n",
              "        padding: 0 0 0 0;\n",
              "        width: 32px;\n",
              "      }\n",
              "\n",
              "      .colab-df-generate:hover {\n",
              "        background-color: #E2EBFA;\n",
              "        box-shadow: 0px 1px 2px rgba(60, 64, 67, 0.3), 0px 1px 3px 1px rgba(60, 64, 67, 0.15);\n",
              "        fill: #174EA6;\n",
              "      }\n",
              "\n",
              "      [theme=dark] .colab-df-generate {\n",
              "        background-color: #3B4455;\n",
              "        fill: #D2E3FC;\n",
              "      }\n",
              "\n",
              "      [theme=dark] .colab-df-generate:hover {\n",
              "        background-color: #434B5C;\n",
              "        box-shadow: 0px 1px 3px 1px rgba(0, 0, 0, 0.15);\n",
              "        filter: drop-shadow(0px 1px 2px rgba(0, 0, 0, 0.3));\n",
              "        fill: #FFFFFF;\n",
              "      }\n",
              "    </style>\n",
              "    <button class=\"colab-df-generate\" onclick=\"generateWithVariable('df_encoded')\"\n",
              "            title=\"Generate code using this dataframe.\"\n",
              "            style=\"display:none;\">\n",
              "\n",
              "  <svg xmlns=\"http://www.w3.org/2000/svg\" height=\"24px\"viewBox=\"0 0 24 24\"\n",
              "       width=\"24px\">\n",
              "    <path d=\"M7,19H8.4L18.45,9,17,7.55,7,17.6ZM5,21V16.75L18.45,3.32a2,2,0,0,1,2.83,0l1.4,1.43a1.91,1.91,0,0,1,.58,1.4,1.91,1.91,0,0,1-.58,1.4L9.25,21ZM18.45,9,17,7.55Zm-12,3A5.31,5.31,0,0,0,4.9,8.1,5.31,5.31,0,0,0,1,6.5,5.31,5.31,0,0,0,4.9,4.9,5.31,5.31,0,0,0,6.5,1,5.31,5.31,0,0,0,8.1,4.9,5.31,5.31,0,0,0,12,6.5,5.46,5.46,0,0,0,6.5,12Z\"/>\n",
              "  </svg>\n",
              "    </button>\n",
              "    <script>\n",
              "      (() => {\n",
              "      const buttonEl =\n",
              "        document.querySelector('#id_df036c90-f130-49cc-a5ce-156fd1f23c1a button.colab-df-generate');\n",
              "      buttonEl.style.display =\n",
              "        google.colab.kernel.accessAllowed ? 'block' : 'none';\n",
              "\n",
              "      buttonEl.onclick = () => {\n",
              "        google.colab.notebook.generateWithVariable('df_encoded');\n",
              "      }\n",
              "      })();\n",
              "    </script>\n",
              "  </div>\n",
              "\n",
              "    </div>\n",
              "  </div>\n"
            ],
            "application/vnd.google.colaboratory.intrinsic+json": {
              "type": "dataframe",
              "variable_name": "df_encoded",
              "summary": "{\n  \"name\": \"df_encoded\",\n  \"rows\": 10000,\n  \"fields\": [\n    {\n      \"column\": \"RowNumber\",\n      \"properties\": {\n        \"dtype\": \"number\",\n        \"std\": 2886,\n        \"min\": 1,\n        \"max\": 10000,\n        \"num_unique_values\": 10000,\n        \"samples\": [\n          6253,\n          4685,\n          1732\n        ],\n        \"semantic_type\": \"\",\n        \"description\": \"\"\n      }\n    },\n    {\n      \"column\": \"CustomerId\",\n      \"properties\": {\n        \"dtype\": \"number\",\n        \"std\": 71936,\n        \"min\": 15565701,\n        \"max\": 15815690,\n        \"num_unique_values\": 10000,\n        \"samples\": [\n          15687492,\n          15736963,\n          15721730\n        ],\n        \"semantic_type\": \"\",\n        \"description\": \"\"\n      }\n    },\n    {\n      \"column\": \"Surname\",\n      \"properties\": {\n        \"dtype\": \"category\",\n        \"num_unique_values\": 2932,\n        \"samples\": [\n          \"McGuirk\",\n          \"Torkelson\",\n          \"Rapuluchukwu\"\n        ],\n        \"semantic_type\": \"\",\n        \"description\": \"\"\n      }\n    },\n    {\n      \"column\": \"CreditScore\",\n      \"properties\": {\n        \"dtype\": \"number\",\n        \"std\": 96,\n        \"min\": 350,\n        \"max\": 850,\n        \"num_unique_values\": 460,\n        \"samples\": [\n          754,\n          533,\n          744\n        ],\n        \"semantic_type\": \"\",\n        \"description\": \"\"\n      }\n    },\n    {\n      \"column\": \"Age\",\n      \"properties\": {\n        \"dtype\": \"number\",\n        \"std\": 10,\n        \"min\": 18,\n        \"max\": 92,\n        \"num_unique_values\": 70,\n        \"samples\": [\n          61,\n          42,\n          59\n        ],\n        \"semantic_type\": \"\",\n        \"description\": \"\"\n      }\n    },\n    {\n      \"column\": \"Tenure\",\n      \"properties\": {\n        \"dtype\": \"number\",\n        \"std\": 2,\n        \"min\": 0,\n        \"max\": 10,\n        \"num_unique_values\": 11,\n        \"samples\": [\n          6,\n          2,\n          9\n        ],\n        \"semantic_type\": \"\",\n        \"description\": \"\"\n      }\n    },\n    {\n      \"column\": \"Balance\",\n      \"properties\": {\n        \"dtype\": \"number\",\n        \"std\": 62397.40520238623,\n        \"min\": 0.0,\n        \"max\": 250898.09,\n        \"num_unique_values\": 6382,\n        \"samples\": [\n          117707.18,\n          133050.97,\n          124271.26\n        ],\n        \"semantic_type\": \"\",\n        \"description\": \"\"\n      }\n    },\n    {\n      \"column\": \"NumOfProducts\",\n      \"properties\": {\n        \"dtype\": \"number\",\n        \"std\": 0,\n        \"min\": 1,\n        \"max\": 4,\n        \"num_unique_values\": 4,\n        \"samples\": [\n          3,\n          4,\n          1\n        ],\n        \"semantic_type\": \"\",\n        \"description\": \"\"\n      }\n    },\n    {\n      \"column\": \"HasCrCard\",\n      \"properties\": {\n        \"dtype\": \"number\",\n        \"std\": 0,\n        \"min\": 0,\n        \"max\": 1,\n        \"num_unique_values\": 2,\n        \"samples\": [\n          0,\n          1\n        ],\n        \"semantic_type\": \"\",\n        \"description\": \"\"\n      }\n    },\n    {\n      \"column\": \"IsActiveMember\",\n      \"properties\": {\n        \"dtype\": \"number\",\n        \"std\": 0,\n        \"min\": 0,\n        \"max\": 1,\n        \"num_unique_values\": 2,\n        \"samples\": [\n          0,\n          1\n        ],\n        \"semantic_type\": \"\",\n        \"description\": \"\"\n      }\n    },\n    {\n      \"column\": \"EstimatedSalary\",\n      \"properties\": {\n        \"dtype\": \"number\",\n        \"std\": 57510.49281769822,\n        \"min\": 11.58,\n        \"max\": 199992.48,\n        \"num_unique_values\": 9999,\n        \"samples\": [\n          100809.99,\n          95273.73\n        ],\n        \"semantic_type\": \"\",\n        \"description\": \"\"\n      }\n    },\n    {\n      \"column\": \"Exited\",\n      \"properties\": {\n        \"dtype\": \"number\",\n        \"std\": 0,\n        \"min\": 0,\n        \"max\": 1,\n        \"num_unique_values\": 2,\n        \"samples\": [\n          0,\n          1\n        ],\n        \"semantic_type\": \"\",\n        \"description\": \"\"\n      }\n    },\n    {\n      \"column\": \"Gender_Male\",\n      \"properties\": {\n        \"dtype\": \"number\",\n        \"std\": 0,\n        \"min\": 0,\n        \"max\": 1,\n        \"num_unique_values\": 2,\n        \"samples\": [\n          1,\n          0\n        ],\n        \"semantic_type\": \"\",\n        \"description\": \"\"\n      }\n    },\n    {\n      \"column\": \"Geography_Germany\",\n      \"properties\": {\n        \"dtype\": \"number\",\n        \"std\": 0,\n        \"min\": 0,\n        \"max\": 1,\n        \"num_unique_values\": 2,\n        \"samples\": [\n          1,\n          0\n        ],\n        \"semantic_type\": \"\",\n        \"description\": \"\"\n      }\n    },\n    {\n      \"column\": \"Geography_Spain\",\n      \"properties\": {\n        \"dtype\": \"number\",\n        \"std\": 0,\n        \"min\": 0,\n        \"max\": 1,\n        \"num_unique_values\": 2,\n        \"samples\": [\n          1,\n          0\n        ],\n        \"semantic_type\": \"\",\n        \"description\": \"\"\n      }\n    }\n  ]\n}"
            }
          },
          "metadata": {},
          "execution_count": 34
        }
      ]
    },
    {
      "cell_type": "markdown",
      "source": [
        "##4.Outlier"
      ],
      "metadata": {
        "id": "yqjqQM5EGqlh"
      }
    },
    {
      "cell_type": "code",
      "source": [
        "# Definisikan kolom yang akan di-winsorize\n",
        "columns_to_winsorize = ['CreditScore', 'Age']\n",
        "\n",
        "# Persentil untuk winsorizing (misalnya, 5% di ujung bawah dan 5% di ujung atas)\n",
        "# llimits: persentil bawah, rlimits: persentil atas\n",
        "# (0.05, 0.05) berarti 5% nilai terendah akan diganti dengan nilai di persentil ke-5,\n",
        "# dan 5% nilai tertinggi akan diganti dengan nilai di persentil ke-95.\n",
        "lower_limit_percentile = 0.05\n",
        "upper_limit_percentile = 0.05\n",
        "\n",
        "print(\"--- Sebelum Winsorizing ---\")\n",
        "print(df_encoded[columns_to_winsorize].describe())\n",
        "\n",
        "for col in columns_to_winsorize:\n",
        "    # Terapkan winsorize\n",
        "    # `axis=0` berarti winsorize kolom secara individual\n",
        "    df_encoded[col] = winsorize(df_encoded[col],\n",
        "                                limits=[lower_limit_percentile, upper_limit_percentile],\n",
        "                                axis=0)\n",
        "\n",
        "print(\"\\n--- Setelah Winsorizing ---\")\n",
        "print(df_encoded[columns_to_winsorize].describe())\n",
        "\n",
        "# Menampilkan beberapa baris pertama untuk melihat perubahan\n",
        "print(\"\\nDataFrame setelah Winsorizing (beberapa baris pertama):\")\n",
        "print(df_encoded.head())\n",
        "\n",
        "# Anda juga bisa memeriksa nilai min dan max untuk memastikan winsorizing bekerja\n",
        "print(f\"\\nMin CreditScore setelah winsorizing: {df_encoded['CreditScore'].min()}\")\n",
        "print(f\"Max CreditScore setelah winsorizing: {df_encoded['CreditScore'].max()}\")\n",
        "print(f\"Min Age setelah winsorizing: {df_encoded['Age'].min()}\")\n",
        "print(f\"Max Age setelah winsorizing: {df_encoded['Age'].max()}\")"
      ],
      "metadata": {
        "id": "343_36BiGt9B",
        "colab": {
          "base_uri": "https://localhost:8080/"
        },
        "outputId": "0f862719-e2d2-4bc5-d028-e6b22a17b42f"
      },
      "execution_count": 35,
      "outputs": [
        {
          "output_type": "stream",
          "name": "stdout",
          "text": [
            "--- Sebelum Winsorizing ---\n",
            "        CreditScore           Age\n",
            "count  10000.000000  10000.000000\n",
            "mean     650.528800     38.921800\n",
            "std       96.653299     10.487806\n",
            "min      350.000000     18.000000\n",
            "25%      584.000000     32.000000\n",
            "50%      652.000000     37.000000\n",
            "75%      718.000000     44.000000\n",
            "max      850.000000     92.000000\n",
            "\n",
            "--- Setelah Winsorizing ---\n",
            "        CreditScore           Age\n",
            "count  10000.000000  10000.000000\n",
            "mean     650.890200     38.704300\n",
            "std       90.557699      9.327066\n",
            "min      489.000000     25.000000\n",
            "25%      584.000000     32.000000\n",
            "50%      652.000000     37.000000\n",
            "75%      718.000000     44.000000\n",
            "max      812.000000     60.000000\n",
            "\n",
            "DataFrame setelah Winsorizing (beberapa baris pertama):\n",
            "   RowNumber  CustomerId   Surname  CreditScore  Age  Tenure    Balance  \\\n",
            "0          1    15634602  Hargrave          619   42       2       0.00   \n",
            "1          2    15647311      Hill          608   41       1   83807.86   \n",
            "2          3    15619304      Onio          502   42       8  159660.80   \n",
            "3          4    15701354      Boni          699   39       1       0.00   \n",
            "4          5    15737888  Mitchell          812   43       2  125510.82   \n",
            "\n",
            "   NumOfProducts  HasCrCard  IsActiveMember  EstimatedSalary  Exited  \\\n",
            "0              1          1               1        101348.88       1   \n",
            "1              1          0               1        112542.58       0   \n",
            "2              3          1               0        113931.57       1   \n",
            "3              2          0               0         93826.63       0   \n",
            "4              1          1               1         79084.10       0   \n",
            "\n",
            "   Gender_Male  Geography_Germany  Geography_Spain  \n",
            "0            0                  0                0  \n",
            "1            0                  0                1  \n",
            "2            0                  0                0  \n",
            "3            0                  0                0  \n",
            "4            0                  0                1  \n",
            "\n",
            "Min CreditScore setelah winsorizing: 489\n",
            "Max CreditScore setelah winsorizing: 812\n",
            "Min Age setelah winsorizing: 25\n",
            "Max Age setelah winsorizing: 60\n"
          ]
        }
      ]
    },
    {
      "cell_type": "code",
      "source": [
        "# Cell 5: Analisis Outlier\n",
        "print(\"Analisis Outlier untuk Kolom Numerik:\")\n",
        "\n",
        "# Kolom yang relevan untuk outlier (tidak termasuk ID dan biner)\n",
        "outlier_cols = ['CreditScore', 'Age', 'Tenure', 'Balance', 'EstimatedSalary']\n",
        "\n",
        "for col in outlier_cols:\n",
        "    plt.figure(figsize=(8, 6))\n",
        "    sns.boxplot(x=df_encoded[col])\n",
        "    plt.title(f'Box Plot of {col}')\n",
        "    plt.xlabel(col)\n",
        "    plt.show()\n",
        "\n",
        "    # Contoh identifikasi outlier menggunakan IQR (hanya contoh, tidak akan mengubah data)\n",
        "    Q1 = df_encoded[col].quantile(0.25)\n",
        "    Q3 = df_encoded[col].quantile(0.75)\n",
        "    IQR = Q3 - Q1\n",
        "    lower_bound = Q1 - 1.5 * IQR\n",
        "    upper_bound = Q3 + 1.5 * IQR\n",
        "    outliers = df_encoded[(df_encoded[col] < lower_bound) | (df_encoded[col] > upper_bound)]\n",
        "    if not outliers.empty:\n",
        "        print(f\"\\nOutlier di kolom '{col}':\")\n",
        "        print(outliers[[col]])\n",
        "    else:\n",
        "        print(f\"\\nTidak ada outlier yang terdeteksi di kolom '{col}' menggunakan metode IQR.\")"
      ],
      "metadata": {
        "id": "68rXyUfHGxM9",
        "colab": {
          "base_uri": "https://localhost:8080/",
          "height": 1000
        },
        "outputId": "2939e61c-853a-4118-87ea-fad2eb792646"
      },
      "execution_count": 36,
      "outputs": [
        {
          "output_type": "stream",
          "name": "stdout",
          "text": [
            "Analisis Outlier untuk Kolom Numerik:\n"
          ]
        },
        {
          "output_type": "display_data",
          "data": {
            "text/plain": [
              "<Figure size 800x600 with 1 Axes>"
            ],
            "image/png": "[encoded data removed]"
          },
          "metadata": {}
        },
        {
          "output_type": "stream",
          "name": "stdout",
          "text": [
            "\n",
            "Tidak ada outlier yang terdeteksi di kolom 'CreditScore' menggunakan metode IQR.\n"
          ]
        },
        {
          "output_type": "stream",
          "name": "stderr",
          "text": [
            "/usr/local/lib/python3.11/dist-packages/numpy/lib/_function_base_impl.py:4968: UserWarning: Warning: 'partition' will ignore the 'mask' of the MaskedArray.\n",
            "  arr.partition(\n",
            "/usr/local/lib/python3.11/dist-packages/numpy/lib/_function_base_impl.py:4968: UserWarning: Warning: 'partition' will ignore the 'mask' of the MaskedArray.\n",
            "  arr.partition(\n"
          ]
        },
        {
          "output_type": "display_data",
          "data": {
            "text/plain": [
              "<Figure size 800x600 with 1 Axes>"
            ],
            "image/png": "[encoded data removed]"
          },
          "metadata": {}
        },
        {
          "output_type": "stream",
          "name": "stdout",
          "text": [
            "\n",
            "Tidak ada outlier yang terdeteksi di kolom 'Age' menggunakan metode IQR.\n"
          ]
        },
        {
          "output_type": "stream",
          "name": "stderr",
          "text": [
            "/usr/local/lib/python3.11/dist-packages/numpy/lib/_function_base_impl.py:4968: UserWarning: Warning: 'partition' will ignore the 'mask' of the MaskedArray.\n",
            "  arr.partition(\n",
            "/usr/local/lib/python3.11/dist-packages/numpy/lib/_function_base_impl.py:4968: UserWarning: Warning: 'partition' will ignore the 'mask' of the MaskedArray.\n",
            "  arr.partition(\n"
          ]
        },
        {
          "output_type": "display_data",
          "data": {
            "text/plain": [
              "<Figure size 800x600 with 1 Axes>"
            ],
            "image/png": "[encoded data removed]"
          },
          "metadata": {}
        },
        {
          "output_type": "stream",
          "name": "stdout",
          "text": [
            "\n",
            "Tidak ada outlier yang terdeteksi di kolom 'Tenure' menggunakan metode IQR.\n"
          ]
        },
        {
          "output_type": "display_data",
          "data": {
            "text/plain": [
              "<Figure size 800x600 with 1 Axes>"
            ],
            "image/png": "[encoded data removed]"
          },
          "metadata": {}
        },
        {
          "output_type": "stream",
          "name": "stdout",
          "text": [
            "\n",
            "Tidak ada outlier yang terdeteksi di kolom 'Balance' menggunakan metode IQR.\n"
          ]
        },
        {
          "output_type": "display_data",
          "data": {
            "text/plain": [
              "<Figure size 800x600 with 1 Axes>"
            ],
            "image/png": "[encoded data removed]"
          },
          "metadata": {}
        },
        {
          "output_type": "stream",
          "name": "stdout",
          "text": [
            "\n",
            "Tidak ada outlier yang terdeteksi di kolom 'EstimatedSalary' menggunakan metode IQR.\n"
          ]
        }
      ]
    },
    {
      "cell_type": "markdown",
      "source": [
        "##5.Menghilangkan Kolom Yang Tidak Relevan"
      ],
      "metadata": {
        "id": "nMKMN55JG0Jo"
      }
    },
    {
      "cell_type": "code",
      "source": [
        "df_cleaned = df_encoded.drop(columns=['RowNumber', 'CustomerId', 'Surname'])"
      ],
      "metadata": {
        "id": "rqOGcViCG5zI"
      },
      "execution_count": 37,
      "outputs": []
    },
    {
      "cell_type": "markdown",
      "source": [
        "##6.Train Test Split"
      ],
      "metadata": {
        "id": "9QdUtgKxDxTr"
      }
    },
    {
      "cell_type": "code",
      "source": [
        "# Pisahkan fitur (X) dan target (y)\n",
        "X = df_cleaned.drop('Exited', axis=1)\n",
        "y = df_cleaned['Exited']\n",
        "\n",
        "# Lakukan Train-Test Split\n",
        "X_train, X_test, y_train, y_test = train_test_split(X, y, test_size=0.20, random_state=42)\n",
        "\n",
        "# Cetak bentuk (shape) dari setiap dataset untuk verifikasi\n",
        "print(\"Bentuk X_train:\", X_train.shape)\n",
        "print(\"Bentuk X_test:\", X_test.shape)\n",
        "print(\"Bentuk y_train:\", y_train.shape)\n",
        "print(\"Bentuk y_test:\", y_test.shape)"
      ],
      "metadata": {
        "colab": {
          "base_uri": "https://localhost:8080/"
        },
        "id": "P1kWzL4pD0ma",
        "outputId": "5fae5ef3-93c4-4ab5-db8b-667420a9b674"
      },
      "execution_count": 38,
      "outputs": [
        {
          "output_type": "stream",
          "name": "stdout",
          "text": [
            "Bentuk X_train: (8000, 11)\n",
            "Bentuk X_test: (2000, 11)\n",
            "Bentuk y_train: (8000,)\n",
            "Bentuk y_test: (2000,)\n"
          ]
        }
      ]
    },
    {
      "cell_type": "markdown",
      "source": [
        "kita lakukan train test split disini agar tidak terjadi data leakage"
      ],
      "metadata": {
        "id": "J19tH3WJIygM"
      }
    },
    {
      "cell_type": "markdown",
      "source": [
        "##7.Normalisasi/Standarisasi"
      ],
      "metadata": {
        "id": "vSCXOZWhGyn-"
      }
    },
    {
      "cell_type": "code",
      "source": [
        "from sklearn.preprocessing import StandardScaler\n",
        "\n",
        "# Misalkan X_train dan X_test adalah output dari tahap train-test split sebelumnya.\n",
        "\n",
        "# Tentukan fitur-fitur numerik yang akan di-scale\n",
        "# Ini adalah daftar yang sama dengan yang ada di kode awal Anda\n",
        "features_to_scale = [\n",
        "    'CreditScore', 'Age', 'Balance', 'NumOfProducts', 'EstimatedSalary', 'Tenure'\n",
        "]\n",
        "\n",
        "# Tambahkan fitur 'IsActiveMember' jika ada dan ingin di-scale\n",
        "# asumsikan 'IsActiveMember' sudah biner (0/1) dan tidak perlu di-scale\n",
        "\n",
        "# Inisialisasi scaler\n",
        "scaler = StandardScaler()\n",
        "\n",
        "# Terapkan StandardScaler pada data latih (fit_transform)\n",
        "# Gunakan iloc untuk memilih kolom agar tidak terjadi masalah 'SettingWithCopyWarning'\n",
        "X_train_scaled = X_train.copy()\n",
        "X_test_scaled = X_test.copy()\n",
        "\n",
        "X_train_scaled[features_to_scale] = scaler.fit_transform(X_train[features_to_scale])\n",
        "\n",
        "# Terapkan scaler yang sama pada data uji (transform)\n",
        "X_test_scaled[features_to_scale] = scaler.transform(X_test[features_to_scale])\n",
        "\n",
        "print(\"Data Latih (X_train) setelah scaling:\")\n",
        "print(X_train_scaled[features_to_scale].head())\n",
        "print(\"\\nData Uji (X_test) setelah scaling:\")\n",
        "print(X_test_scaled[features_to_scale].head())"
      ],
      "metadata": {
        "id": "wZMSfuKEG_kU",
        "colab": {
          "base_uri": "https://localhost:8080/"
        },
        "outputId": "5845ef51-0ee5-421e-dac0-654fec7e92ce"
      },
      "execution_count": 39,
      "outputs": [
        {
          "output_type": "stream",
          "name": "stdout",
          "text": [
            "Data Latih (X_train) setelah scaling:\n",
            "      CreditScore       Age   Balance  NumOfProducts  EstimatedSalary  \\\n",
            "9254     0.376926 -0.714221 -1.218471       0.808436         1.367670   \n",
            "1561    -0.221252  0.354672  0.696838       0.808436         1.661254   \n",
            "1670    -1.029900 -1.462446  0.618629      -0.916688        -0.252807   \n",
            "6087    -1.007746 -1.248667  0.953212      -0.916688         0.915393   \n",
            "6669    -1.495150  1.851122  1.057449      -0.916688        -1.059600   \n",
            "\n",
            "        Tenure  \n",
            "9254  0.345680  \n",
            "1561 -0.348369  \n",
            "1670 -0.695393  \n",
            "6087  1.386753  \n",
            "6669  1.386753  \n",
            "\n",
            "Data Uji (X_test) setelah scaling:\n",
            "      CreditScore       Age   Balance  NumOfProducts  EstimatedSalary  \\\n",
            "6252    -0.620038 -0.714221  0.329937       0.808436        -1.019605   \n",
            "4684    -0.320949  0.461561 -1.218471       0.808436         0.798883   \n",
            "1731    -0.564651  0.568451 -1.218471       0.808436        -0.727980   \n",
            "4742    -1.617001  2.171790  0.689272       0.808436         1.221387   \n",
            "4521    -1.018823 -1.248667  0.782839      -0.916688         0.247560   \n",
            "\n",
            "        Tenure  \n",
            "6252 -0.695393  \n",
            "4684 -1.389442  \n",
            "1731 -0.348369  \n",
            "4742  1.039728  \n",
            "4521  0.692704  \n"
          ]
        }
      ]
    },
    {
      "cell_type": "markdown",
      "source": [
        "##8.Imbalanced Class"
      ],
      "metadata": {
        "id": "wqVhdd9THClW"
      }
    },
    {
      "cell_type": "code",
      "source": [
        "# Inisialisasi SMOTE dengan random_state untuk hasil yang konsisten\n",
        "smote = SMOTE(random_state=42)\n",
        "\n",
        "# Terapkan SMOTE pada data latih\n",
        "X_train_smote, y_train_smote = smote.fit_resample(X_train_scaled, y_train)\n",
        "\n",
        "# --- Verifikasi hasil SMOTE ---\n",
        "print(\"\\n--- SMOTE Selesai ---\")\n",
        "\n",
        "# Cetak jumlah sampel sebelum SMOTE\n",
        "print(\"Jumlah sampel di y_train sebelum SMOTE:\")\n",
        "print(y_train.value_counts())\n",
        "\n",
        "print(\"\\nJumlah sampel di y_train_smote setelah SMOTE:\")\n",
        "print(y_train_smote.value_counts())\n",
        "\n",
        "print(\"\\nBentuk X_train_smote:\", X_train_smote.shape)\n",
        "print(\"Bentuk y_train_smote:\", y_train_smote.shape)"
      ],
      "metadata": {
        "id": "WSfd4Tw6HEr4",
        "colab": {
          "base_uri": "https://localhost:8080/"
        },
        "outputId": "48a2b68d-e459-4f60-b717-a7fe52ddcab9"
      },
      "execution_count": 40,
      "outputs": [
        {
          "output_type": "stream",
          "name": "stdout",
          "text": [
            "\n",
            "--- SMOTE Selesai ---\n",
            "Jumlah sampel di y_train sebelum SMOTE:\n",
            "Exited\n",
            "0    6356\n",
            "1    1644\n",
            "Name: count, dtype: int64\n",
            "\n",
            "Jumlah sampel di y_train_smote setelah SMOTE:\n",
            "Exited\n",
            "0    6356\n",
            "1    6356\n",
            "Name: count, dtype: int64\n",
            "\n",
            "Bentuk X_train_smote: (12712, 11)\n",
            "Bentuk y_train_smote: (12712,)\n"
          ]
        }
      ]
    },
    {
      "cell_type": "markdown",
      "source": [
        "##9.Penggabungan"
      ],
      "metadata": {
        "id": "VSk5AMGhLDDr"
      }
    },
    {
      "cell_type": "code",
      "source": [
        "# Get the current working directory\n",
        "current_directory = os.getcwd()\n",
        "\n",
        "# Gabungkan X_train_smote dan y_train_smote\n",
        "df_train_final = pd.concat([X_train_smote, y_train_smote], axis=1)\n",
        "df_train_final.to_csv(os.path.join(current_directory, 'churn_train_preprocessed.csv'), index=False)\n",
        "print(\"File 'churn_train_preprocessed.csv' berhasil disimpan.\")\n",
        "\n",
        "# Gabungkan X_test dan y_test\n",
        "df_test_final = pd.concat([X_test_scaled, y_test], axis=1)\n",
        "df_test_final.to_csv(os.path.join(current_directory, 'churn_test_preprocessed.csv'), index=False)\n",
        "print(\"File 'churn_test_preprocessed.csv' berhasil disimpan.\")"
      ],
      "metadata": {
        "colab": {
          "base_uri": "https://localhost:8080/"
        },
        "id": "1qpt4as6JAgN",
        "outputId": "accf13e3-0719-4ea4-8145-266898e7c24f"
      },
      "execution_count": 42,
      "outputs": [
        {
          "output_type": "stream",
          "name": "stdout",
          "text": [
            "File 'churn_train_preprocessed.csv' berhasil disimpan.\n",
            "File 'churn_test_preprocessed.csv' berhasil disimpan.\n"
          ]
        }
      ]
    }
  ]
}